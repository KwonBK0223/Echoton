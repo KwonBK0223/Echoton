{
 "cells": [
  {
   "cell_type": "code",
   "execution_count": 1,
   "id": "1e4998c9",
   "metadata": {
    "ExecuteTime": {
     "end_time": "2023-06-02T10:55:07.014744Z",
     "start_time": "2023-06-02T10:55:02.155950Z"
    }
   },
   "outputs": [],
   "source": [
    "import pandas as pd\n",
    "from sklearn.model_selection import train_test_split\n",
    "from tensorflow.keras.models import Sequential\n",
    "from tensorflow.keras.layers import Dense\n",
    "from sklearn.preprocessing import MinMaxScaler\n",
    "from tensorflow.keras.models import Sequential\n",
    "from keras.callbacks import EarlyStopping"
   ]
  },
  {
   "cell_type": "code",
   "execution_count": 2,
   "id": "ad0a9e30",
   "metadata": {
    "ExecuteTime": {
     "end_time": "2023-06-02T10:55:07.045262Z",
     "start_time": "2023-06-02T10:55:07.017168Z"
    }
   },
   "outputs": [],
   "source": [
    "nd = pd.read_csv(\"df_nakdong1.csv\")"
   ]
  },
  {
   "cell_type": "code",
   "execution_count": 3,
   "id": "31e780a4",
   "metadata": {
    "ExecuteTime": {
     "end_time": "2023-06-02T10:55:07.060208Z",
     "start_time": "2023-06-02T10:55:07.049256Z"
    }
   },
   "outputs": [],
   "source": [
    "nd2 = nd.iloc[:,4:]"
   ]
  },
  {
   "cell_type": "code",
   "execution_count": 4,
   "id": "63791270",
   "metadata": {
    "ExecuteTime": {
     "end_time": "2023-06-02T10:55:07.090128Z",
     "start_time": "2023-06-02T10:55:07.062202Z"
    }
   },
   "outputs": [
    {
     "data": {
      "text/plain": [
       "array([0, 1], dtype=int64)"
      ]
     },
     "execution_count": 4,
     "metadata": {},
     "output_type": "execute_result"
    }
   ],
   "source": [
    "nd2[\"경계발령\"].unique()"
   ]
  },
  {
   "cell_type": "code",
   "execution_count": 5,
   "id": "058b83df",
   "metadata": {
    "ExecuteTime": {
     "end_time": "2023-06-02T10:55:07.258038Z",
     "start_time": "2023-06-02T10:55:07.093137Z"
    }
   },
   "outputs": [],
   "source": [
    "# 입력변수와 출력 변수 분리\n",
    "X = nd2.drop(columns=['경계발령',\"유해남조류 세포수 (cells/㎖)\"])\n",
    "y = nd2[[\"경계발령\"]]"
   ]
  },
  {
   "cell_type": "code",
   "execution_count": 6,
   "id": "9c675444",
   "metadata": {
    "ExecuteTime": {
     "end_time": "2023-06-02T10:55:07.273701Z",
     "start_time": "2023-06-02T10:55:07.260034Z"
    }
   },
   "outputs": [],
   "source": [
    "# 데이터를 훈련용과 검증용으로 분리\n",
    "X_train, X_test, y_train, y_test = train_test_split(X, y, test_size=0.2, random_state=1)"
   ]
  },
  {
   "cell_type": "code",
   "execution_count": 7,
   "id": "456acecc",
   "metadata": {
    "ExecuteTime": {
     "end_time": "2023-06-02T10:55:07.288685Z",
     "start_time": "2023-06-02T10:55:07.275698Z"
    }
   },
   "outputs": [],
   "source": [
    "# 스케일링\n",
    "scaler = MinMaxScaler()\n",
    "X_train_scaled = scaler.fit_transform(X_train)\n",
    "X_test_scaled = scaler.transform(X_test)"
   ]
  },
  {
   "cell_type": "code",
   "execution_count": 8,
   "id": "3027cc8f",
   "metadata": {
    "ExecuteTime": {
     "end_time": "2023-06-02T10:55:07.423453Z",
     "start_time": "2023-06-02T10:55:07.291653Z"
    }
   },
   "outputs": [],
   "source": [
    "# 모델 설계\n",
    "model = Sequential()\n",
    "\n",
    "model.add(Dense(64, input_dim=X_train_scaled.shape[1], activation='relu'))\n",
    "model.add(Dense(32, activation='relu'))\n",
    "model.add(Dense(32, activation='relu'))\n",
    "model.add(Dense(1, activation='sigmoid'))"
   ]
  },
  {
   "cell_type": "code",
   "execution_count": 13,
   "id": "9258aa21",
   "metadata": {
    "ExecuteTime": {
     "end_time": "2023-06-02T10:55:42.102089Z",
     "start_time": "2023-06-02T10:55:37.652251Z"
    },
    "scrolled": true
   },
   "outputs": [
    {
     "name": "stdout",
     "output_type": "stream",
     "text": [
      "Epoch 1/1000\n",
      "31/31 [==============================] - 1s 10ms/step - loss: 0.1466 - accuracy: 0.9417 - val_loss: 0.1653 - val_accuracy: 0.9418\n",
      "Epoch 2/1000\n",
      "31/31 [==============================] - 0s 4ms/step - loss: 0.1421 - accuracy: 0.9464 - val_loss: 0.1607 - val_accuracy: 0.9376\n",
      "Epoch 3/1000\n",
      "31/31 [==============================] - 0s 3ms/step - loss: 0.1420 - accuracy: 0.9474 - val_loss: 0.1572 - val_accuracy: 0.9376\n",
      "Epoch 4/1000\n",
      "31/31 [==============================] - 0s 3ms/step - loss: 0.1471 - accuracy: 0.9417 - val_loss: 0.1630 - val_accuracy: 0.9397\n",
      "Epoch 5/1000\n",
      "31/31 [==============================] - 0s 3ms/step - loss: 0.1473 - accuracy: 0.9427 - val_loss: 0.1565 - val_accuracy: 0.9418\n",
      "Epoch 6/1000\n",
      "31/31 [==============================] - 0s 3ms/step - loss: 0.1708 - accuracy: 0.9360 - val_loss: 0.1729 - val_accuracy: 0.9418\n",
      "Epoch 7/1000\n",
      "31/31 [==============================] - 0s 3ms/step - loss: 0.1460 - accuracy: 0.9464 - val_loss: 0.1610 - val_accuracy: 0.9418\n",
      "Epoch 8/1000\n",
      "31/31 [==============================] - 0s 4ms/step - loss: 0.1446 - accuracy: 0.9448 - val_loss: 0.1633 - val_accuracy: 0.9376\n",
      "Epoch 9/1000\n",
      "31/31 [==============================] - 0s 3ms/step - loss: 0.1412 - accuracy: 0.9453 - val_loss: 0.1575 - val_accuracy: 0.9376\n",
      "Epoch 10/1000\n",
      "31/31 [==============================] - 0s 4ms/step - loss: 0.1389 - accuracy: 0.9469 - val_loss: 0.1568 - val_accuracy: 0.9376\n",
      "Epoch 11/1000\n",
      "31/31 [==============================] - 0s 4ms/step - loss: 0.1404 - accuracy: 0.9433 - val_loss: 0.1559 - val_accuracy: 0.9376\n",
      "Epoch 12/1000\n",
      "31/31 [==============================] - 0s 3ms/step - loss: 0.1384 - accuracy: 0.9427 - val_loss: 0.1568 - val_accuracy: 0.9397\n",
      "Epoch 13/1000\n",
      "31/31 [==============================] - 0s 3ms/step - loss: 0.1387 - accuracy: 0.9448 - val_loss: 0.1566 - val_accuracy: 0.9356\n",
      "Epoch 14/1000\n",
      "31/31 [==============================] - 0s 3ms/step - loss: 0.1392 - accuracy: 0.9448 - val_loss: 0.1575 - val_accuracy: 0.9376\n",
      "Epoch 15/1000\n",
      "31/31 [==============================] - 0s 3ms/step - loss: 0.1376 - accuracy: 0.9443 - val_loss: 0.1557 - val_accuracy: 0.9356\n",
      "Epoch 16/1000\n",
      "31/31 [==============================] - 0s 3ms/step - loss: 0.1374 - accuracy: 0.9448 - val_loss: 0.1562 - val_accuracy: 0.9376\n",
      "Epoch 17/1000\n",
      "31/31 [==============================] - 0s 3ms/step - loss: 0.1413 - accuracy: 0.9422 - val_loss: 0.1572 - val_accuracy: 0.9418\n",
      "Epoch 18/1000\n",
      "31/31 [==============================] - 0s 3ms/step - loss: 0.1371 - accuracy: 0.9464 - val_loss: 0.1571 - val_accuracy: 0.9397\n",
      "Epoch 19/1000\n",
      "31/31 [==============================] - 0s 3ms/step - loss: 0.1390 - accuracy: 0.9448 - val_loss: 0.1556 - val_accuracy: 0.9397\n",
      "Epoch 20/1000\n",
      "31/31 [==============================] - 0s 3ms/step - loss: 0.1359 - accuracy: 0.9479 - val_loss: 0.1559 - val_accuracy: 0.9376\n",
      "Epoch 21/1000\n",
      "31/31 [==============================] - 0s 3ms/step - loss: 0.1381 - accuracy: 0.9422 - val_loss: 0.1617 - val_accuracy: 0.9397\n",
      "Epoch 22/1000\n",
      "31/31 [==============================] - 0s 3ms/step - loss: 0.1374 - accuracy: 0.9443 - val_loss: 0.1537 - val_accuracy: 0.9418\n",
      "Epoch 23/1000\n",
      "31/31 [==============================] - 0s 3ms/step - loss: 0.1367 - accuracy: 0.9448 - val_loss: 0.1630 - val_accuracy: 0.9439\n",
      "Epoch 24/1000\n",
      "31/31 [==============================] - 0s 3ms/step - loss: 0.1813 - accuracy: 0.9287 - val_loss: 0.1589 - val_accuracy: 0.9397\n",
      "Epoch 25/1000\n",
      "31/31 [==============================] - 0s 3ms/step - loss: 0.1439 - accuracy: 0.9453 - val_loss: 0.1553 - val_accuracy: 0.9418\n",
      "Epoch 26/1000\n",
      "31/31 [==============================] - 0s 3ms/step - loss: 0.1417 - accuracy: 0.9448 - val_loss: 0.1540 - val_accuracy: 0.9397\n",
      "Epoch 27/1000\n",
      "31/31 [==============================] - 0s 3ms/step - loss: 0.1395 - accuracy: 0.9443 - val_loss: 0.1544 - val_accuracy: 0.9376\n",
      "Epoch 28/1000\n",
      "31/31 [==============================] - 0s 3ms/step - loss: 0.1392 - accuracy: 0.9464 - val_loss: 0.1679 - val_accuracy: 0.9439\n",
      "Epoch 29/1000\n",
      "31/31 [==============================] - 0s 3ms/step - loss: 0.1667 - accuracy: 0.9308 - val_loss: 0.1603 - val_accuracy: 0.9376\n",
      "Epoch 30/1000\n",
      "31/31 [==============================] - 0s 3ms/step - loss: 0.1387 - accuracy: 0.9448 - val_loss: 0.1582 - val_accuracy: 0.9376\n",
      "Epoch 31/1000\n",
      "31/31 [==============================] - 0s 3ms/step - loss: 0.1364 - accuracy: 0.9433 - val_loss: 0.1560 - val_accuracy: 0.9397\n",
      "Epoch 32/1000\n",
      "31/31 [==============================] - 0s 3ms/step - loss: 0.1357 - accuracy: 0.9448 - val_loss: 0.1555 - val_accuracy: 0.9397\n"
     ]
    }
   ],
   "source": [
    "# EarlyStopping 콜백 정의\n",
    "early_stopping = EarlyStopping(monitor='val_loss', patience=10, restore_best_weights=True)\n",
    "\n",
    "# 모델 컴파일\n",
    "model.compile(optimizer='adam', loss='binary_crossentropy', metrics=['accuracy'])\n",
    "\n",
    "# 모델 학습\n",
    "history = model.fit(X_train_scaled, y_train, validation_data=(X_test_scaled, y_test), \n",
    "                    epochs=1000, batch_size=64, callbacks=[early_stopping])\n"
   ]
  },
  {
   "cell_type": "code",
   "execution_count": 10,
   "id": "232cbf55",
   "metadata": {
    "ExecuteTime": {
     "end_time": "2023-06-02T10:55:19.340784Z",
     "start_time": "2023-06-02T10:55:19.192805Z"
    },
    "scrolled": true
   },
   "outputs": [
    {
     "name": "stdout",
     "output_type": "stream",
     "text": [
      "16/16 [==============================] - 0s 2ms/step - loss: 0.1586 - accuracy: 0.9376\n",
      "Test accuracy: 0.9376299381256104\n"
     ]
    }
   ],
   "source": [
    "loss, accuracy = model.evaluate(X_test_scaled, y_test)\n",
    "print('Test accuracy:', accuracy)"
   ]
  },
  {
   "cell_type": "code",
   "execution_count": 11,
   "id": "0452aedd",
   "metadata": {
    "ExecuteTime": {
     "end_time": "2023-06-02T10:55:19.355718Z",
     "start_time": "2023-06-02T10:55:19.342749Z"
    }
   },
   "outputs": [
    {
     "name": "stdout",
     "output_type": "stream",
     "text": [
      "Test loss:  0.15859094262123108\n"
     ]
    }
   ],
   "source": [
    "print('Test loss: ', loss)"
   ]
  },
  {
   "cell_type": "code",
   "execution_count": 12,
   "id": "45afcbd1",
   "metadata": {
    "ExecuteTime": {
     "end_time": "2023-06-02T10:55:20.688150Z",
     "start_time": "2023-06-02T10:55:19.363694Z"
    }
   },
   "outputs": [
    {
     "data": {
      "image/png": "[encoded data removed]",
      "text/plain": [
       "<Figure size 432x288 with 1 Axes>"
      ]
     },
     "metadata": {
      "needs_background": "light"
     },
     "output_type": "display_data"
    },
    {
     "data": {
      "image/png": "[encoded data removed]",
      "text/plain": [
       "<Figure size 432x288 with 1 Axes>"
      ]
     },
     "metadata": {
      "needs_background": "light"
     },
     "output_type": "display_data"
    }
   ],
   "source": [
    "import matplotlib.pyplot as plt\n",
    "\n",
    "# history 객체에서 손실값과 정확도를 추출합니다.\n",
    "train_loss = history.history['loss']\n",
    "val_loss = history.history['val_loss']\n",
    "train_acc = history.history['accuracy']\n",
    "val_acc = history.history['val_accuracy']\n",
    "\n",
    "# 손실값 그래프\n",
    "plt.plot(train_loss, label='train_loss')\n",
    "plt.plot(val_loss, label='val_loss')\n",
    "plt.legend()\n",
    "plt.title('Loss')\n",
    "plt.show()\n",
    "\n",
    "# 정확도 그래프\n",
    "plt.plot(train_acc, label='train_acc')\n",
    "plt.plot(val_acc, label='val_acc')\n",
    "plt.legend()\n",
    "plt.title('Accuracy')\n",
    "plt.show()\n"
   ]
  },
  {
   "cell_type": "code",
   "execution_count": null,
   "id": "36e34c3b",
   "metadata": {},
   "outputs": [],
   "source": []
  }
 ],
 "metadata": {
  "kernelspec": {
   "display_name": "Python 3 (ipykernel)",
   "language": "python",
   "name": "python3"
  },
  "language_info": {
   "codemirror_mode": {
    "name": "ipython",
    "version": 3
   },
   "file_extension": ".py",
   "mimetype": "text/x-python",
   "name": "python",
   "nbconvert_exporter": "python",
   "pygments_lexer": "ipython3",
   "version": "3.9.12"
  },
  "toc": {
   "base_numbering": 1,
   "nav_menu": {},
   "number_sections": false,
   "sideBar": true,
   "skip_h1_title": false,
   "title_cell": "Table of Contents",
   "title_sidebar": "Contents",
   "toc_cell": false,
   "toc_position": {},
   "toc_section_display": true,
   "toc_window_display": false
  },
  "varInspector": {
   "cols": {
    "lenName": 16,
    "lenType": 16,
    "lenVar": 40
   },
   "kernels_config": {
    "python": {
     "delete_cmd_postfix": "",
     "delete_cmd_prefix": "del ",
     "library": "var_list.py",
     "varRefreshCmd": "print(var_dic_list())"
    },
    "r": {
     "delete_cmd_postfix": ") ",
     "delete_cmd_prefix": "rm(",
     "library": "var_list.r",
     "varRefreshCmd": "cat(var_dic_list()) "
    }
   },
   "types_to_exclude": [
    "module",
    "function",
    "builtin_function_or_method",
    "instance",
    "_Feature"
   ],
   "window_display": false
  }
 },
 "nbformat": 4,
 "nbformat_minor": 5
}
