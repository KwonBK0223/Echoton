{
 "cells": [
  {
   "cell_type": "code",
   "execution_count": 2,
   "id": "8d521ebe",
   "metadata": {
    "ExecuteTime": {
     "end_time": "2023-06-02T11:00:58.850528Z",
     "start_time": "2023-06-02T11:00:58.840557Z"
    }
   },
   "outputs": [],
   "source": [
    "import pandas as pd\n",
    "from sklearn.model_selection import train_test_split\n",
    "from tensorflow.keras.models import Sequential\n",
    "from tensorflow.keras.layers import Dense\n",
    "from sklearn.preprocessing import MinMaxScaler\n",
    "from tensorflow.keras.models import Sequential\n",
    "from keras.callbacks import EarlyStopping"
   ]
  },
  {
   "cell_type": "code",
   "execution_count": 3,
   "id": "a4a0fec0",
   "metadata": {
    "ExecuteTime": {
     "end_time": "2023-06-02T11:00:58.895408Z",
     "start_time": "2023-06-02T11:00:58.853532Z"
    }
   },
   "outputs": [],
   "source": [
    "dt = pd.read_csv(\"df_han_nak.csv\")"
   ]
  },
  {
   "cell_type": "code",
   "execution_count": 4,
   "id": "26ad87c8",
   "metadata": {
    "ExecuteTime": {
     "end_time": "2023-06-02T11:00:58.910908Z",
     "start_time": "2023-06-02T11:00:58.897402Z"
    }
   },
   "outputs": [],
   "source": [
    "dt2 = dt.iloc[:,4:]"
   ]
  },
  {
   "cell_type": "code",
   "execution_count": 5,
   "id": "4c7269ae",
   "metadata": {
    "ExecuteTime": {
     "end_time": "2023-06-02T11:00:58.941880Z",
     "start_time": "2023-06-02T11:00:58.914299Z"
    }
   },
   "outputs": [
    {
     "data": {
      "text/plain": [
       "array([0, 1], dtype=int64)"
      ]
     },
     "execution_count": 5,
     "metadata": {},
     "output_type": "execute_result"
    }
   ],
   "source": [
    "dt2[\"경계발령\"].unique()"
   ]
  },
  {
   "cell_type": "code",
   "execution_count": 6,
   "id": "dbcbe53f",
   "metadata": {
    "ExecuteTime": {
     "end_time": "2023-06-02T11:00:58.956839Z",
     "start_time": "2023-06-02T11:00:58.944872Z"
    }
   },
   "outputs": [],
   "source": [
    "# 입력변수와 출력 변수 분리\n",
    "X = dt2.drop(columns=['경계발령',\"유해남조류 세포수 (cells/㎖)\"])\n",
    "y = dt2[[\"경계발령\"]]"
   ]
  },
  {
   "cell_type": "code",
   "execution_count": 7,
   "id": "69601467",
   "metadata": {
    "ExecuteTime": {
     "end_time": "2023-06-02T11:00:58.987183Z",
     "start_time": "2023-06-02T11:00:58.959831Z"
    }
   },
   "outputs": [],
   "source": [
    "# 데이터를 훈련용과 검증용으로 분리\n",
    "X_train, X_test, y_train, y_test = train_test_split(X, y, test_size=0.2, random_state=1)"
   ]
  },
  {
   "cell_type": "code",
   "execution_count": 8,
   "id": "10cd123d",
   "metadata": {
    "ExecuteTime": {
     "end_time": "2023-06-02T11:00:59.002248Z",
     "start_time": "2023-06-02T11:00:58.990296Z"
    }
   },
   "outputs": [],
   "source": [
    "# 스케일링\n",
    "scaler = MinMaxScaler()\n",
    "X_train_scaled = scaler.fit_transform(X_train)\n",
    "X_test_scaled = scaler.transform(X_test)\n",
    "# X_train_scaled = X_train\n",
    "# X_test_scaled = X_test"
   ]
  },
  {
   "cell_type": "code",
   "execution_count": 9,
   "id": "b4884c5e",
   "metadata": {
    "ExecuteTime": {
     "end_time": "2023-06-02T11:00:59.151981Z",
     "start_time": "2023-06-02T11:00:59.006237Z"
    }
   },
   "outputs": [],
   "source": [
    "# 모델 설계\n",
    "model = Sequential()\n",
    "\n",
    "model.add(Dense(64, input_dim=X_train_scaled.shape[1], activation='relu'))\n",
    "model.add(Dense(32, activation='relu'))\n",
    "model.add(Dense(32, activation='relu'))\n",
    "model.add(Dense(1, activation='sigmoid'))"
   ]
  },
  {
   "cell_type": "code",
   "execution_count": 10,
   "id": "88c3484b",
   "metadata": {
    "ExecuteTime": {
     "end_time": "2023-06-02T11:01:09.434335Z",
     "start_time": "2023-06-02T11:00:59.154931Z"
    }
   },
   "outputs": [
    {
     "name": "stdout",
     "output_type": "stream",
     "text": [
      "Epoch 1/1000\n",
      "40/40 [==============================] - 1s 9ms/step - loss: 0.4855 - accuracy: 0.9439 - val_loss: 0.2998 - val_accuracy: 0.9336\n",
      "Epoch 2/1000\n",
      "40/40 [==============================] - 0s 3ms/step - loss: 0.2488 - accuracy: 0.9439 - val_loss: 0.2706 - val_accuracy: 0.9336\n",
      "Epoch 3/1000\n",
      "40/40 [==============================] - 0s 3ms/step - loss: 0.2331 - accuracy: 0.9439 - val_loss: 0.2589 - val_accuracy: 0.9336\n",
      "Epoch 4/1000\n",
      "40/40 [==============================] - 0s 3ms/step - loss: 0.2245 - accuracy: 0.9439 - val_loss: 0.2486 - val_accuracy: 0.9336\n",
      "Epoch 5/1000\n",
      "40/40 [==============================] - 0s 4ms/step - loss: 0.2170 - accuracy: 0.9439 - val_loss: 0.2360 - val_accuracy: 0.9336\n",
      "Epoch 6/1000\n",
      "40/40 [==============================] - 0s 3ms/step - loss: 0.2086 - accuracy: 0.9439 - val_loss: 0.2242 - val_accuracy: 0.9336\n",
      "Epoch 7/1000\n",
      "40/40 [==============================] - 0s 3ms/step - loss: 0.1977 - accuracy: 0.9439 - val_loss: 0.2075 - val_accuracy: 0.9336\n",
      "Epoch 8/1000\n",
      "40/40 [==============================] - 0s 3ms/step - loss: 0.1890 - accuracy: 0.9439 - val_loss: 0.1992 - val_accuracy: 0.9336\n",
      "Epoch 9/1000\n",
      "40/40 [==============================] - 0s 3ms/step - loss: 0.1825 - accuracy: 0.9439 - val_loss: 0.1881 - val_accuracy: 0.9336\n",
      "Epoch 10/1000\n",
      "40/40 [==============================] - 0s 4ms/step - loss: 0.1780 - accuracy: 0.9439 - val_loss: 0.1795 - val_accuracy: 0.9336\n",
      "Epoch 11/1000\n",
      "40/40 [==============================] - 0s 4ms/step - loss: 0.1736 - accuracy: 0.9439 - val_loss: 0.1747 - val_accuracy: 0.9336\n",
      "Epoch 12/1000\n",
      "40/40 [==============================] - 0s 3ms/step - loss: 0.1740 - accuracy: 0.9439 - val_loss: 0.1712 - val_accuracy: 0.9336\n",
      "Epoch 13/1000\n",
      "40/40 [==============================] - 0s 3ms/step - loss: 0.1690 - accuracy: 0.9439 - val_loss: 0.1691 - val_accuracy: 0.9336\n",
      "Epoch 14/1000\n",
      "40/40 [==============================] - 0s 3ms/step - loss: 0.1658 - accuracy: 0.9439 - val_loss: 0.1662 - val_accuracy: 0.9336\n",
      "Epoch 15/1000\n",
      "40/40 [==============================] - 0s 3ms/step - loss: 0.1663 - accuracy: 0.9466 - val_loss: 0.1863 - val_accuracy: 0.9336\n",
      "Epoch 16/1000\n",
      "40/40 [==============================] - 0s 3ms/step - loss: 0.1638 - accuracy: 0.9450 - val_loss: 0.1594 - val_accuracy: 0.9415\n",
      "Epoch 17/1000\n",
      "40/40 [==============================] - 0s 3ms/step - loss: 0.1600 - accuracy: 0.9474 - val_loss: 0.1573 - val_accuracy: 0.9542\n",
      "Epoch 18/1000\n",
      "40/40 [==============================] - 0s 3ms/step - loss: 0.1599 - accuracy: 0.9490 - val_loss: 0.1688 - val_accuracy: 0.9336\n",
      "Epoch 19/1000\n",
      "40/40 [==============================] - 0s 3ms/step - loss: 0.1626 - accuracy: 0.9454 - val_loss: 0.1548 - val_accuracy: 0.9479\n",
      "Epoch 20/1000\n",
      "40/40 [==============================] - 0s 3ms/step - loss: 0.1571 - accuracy: 0.9474 - val_loss: 0.1528 - val_accuracy: 0.9510\n",
      "Epoch 21/1000\n",
      "40/40 [==============================] - 0s 3ms/step - loss: 0.1556 - accuracy: 0.9482 - val_loss: 0.1534 - val_accuracy: 0.9431\n",
      "Epoch 22/1000\n",
      "40/40 [==============================] - 0s 3ms/step - loss: 0.1537 - accuracy: 0.9514 - val_loss: 0.1509 - val_accuracy: 0.9479\n",
      "Epoch 23/1000\n",
      "40/40 [==============================] - 0s 3ms/step - loss: 0.1516 - accuracy: 0.9514 - val_loss: 0.1548 - val_accuracy: 0.9431\n",
      "Epoch 24/1000\n",
      "40/40 [==============================] - 0s 3ms/step - loss: 0.1532 - accuracy: 0.9502 - val_loss: 0.1523 - val_accuracy: 0.9526\n",
      "Epoch 25/1000\n",
      "40/40 [==============================] - 0s 3ms/step - loss: 0.1502 - accuracy: 0.9526 - val_loss: 0.1469 - val_accuracy: 0.9526\n",
      "Epoch 26/1000\n",
      "40/40 [==============================] - 0s 3ms/step - loss: 0.1505 - accuracy: 0.9526 - val_loss: 0.1469 - val_accuracy: 0.9447\n",
      "Epoch 27/1000\n",
      "40/40 [==============================] - 0s 3ms/step - loss: 0.1508 - accuracy: 0.9529 - val_loss: 0.1507 - val_accuracy: 0.9431\n",
      "Epoch 28/1000\n",
      "40/40 [==============================] - 0s 3ms/step - loss: 0.1484 - accuracy: 0.9506 - val_loss: 0.1487 - val_accuracy: 0.9447\n",
      "Epoch 29/1000\n",
      "40/40 [==============================] - 0s 3ms/step - loss: 0.1484 - accuracy: 0.9518 - val_loss: 0.1459 - val_accuracy: 0.9510\n",
      "Epoch 30/1000\n",
      "40/40 [==============================] - 0s 3ms/step - loss: 0.1468 - accuracy: 0.9510 - val_loss: 0.1441 - val_accuracy: 0.9510\n",
      "Epoch 31/1000\n",
      "40/40 [==============================] - 0s 3ms/step - loss: 0.1461 - accuracy: 0.9529 - val_loss: 0.1417 - val_accuracy: 0.9526\n",
      "Epoch 32/1000\n",
      "40/40 [==============================] - 0s 3ms/step - loss: 0.1459 - accuracy: 0.9522 - val_loss: 0.1480 - val_accuracy: 0.9431\n",
      "Epoch 33/1000\n",
      "40/40 [==============================] - 0s 3ms/step - loss: 0.1436 - accuracy: 0.9514 - val_loss: 0.1416 - val_accuracy: 0.9510\n",
      "Epoch 34/1000\n",
      "40/40 [==============================] - 0s 3ms/step - loss: 0.1448 - accuracy: 0.9526 - val_loss: 0.1449 - val_accuracy: 0.9510\n",
      "Epoch 35/1000\n",
      "40/40 [==============================] - 0s 3ms/step - loss: 0.1437 - accuracy: 0.9502 - val_loss: 0.1435 - val_accuracy: 0.9479\n",
      "Epoch 36/1000\n",
      "40/40 [==============================] - 0s 3ms/step - loss: 0.1430 - accuracy: 0.9518 - val_loss: 0.1423 - val_accuracy: 0.9494\n",
      "Epoch 37/1000\n",
      "40/40 [==============================] - 0s 3ms/step - loss: 0.1425 - accuracy: 0.9541 - val_loss: 0.1412 - val_accuracy: 0.9510\n",
      "Epoch 38/1000\n",
      "40/40 [==============================] - 0s 3ms/step - loss: 0.1429 - accuracy: 0.9526 - val_loss: 0.1412 - val_accuracy: 0.9479\n",
      "Epoch 39/1000\n",
      "40/40 [==============================] - 0s 3ms/step - loss: 0.1411 - accuracy: 0.9526 - val_loss: 0.1366 - val_accuracy: 0.9526\n",
      "Epoch 40/1000\n",
      "40/40 [==============================] - 0s 3ms/step - loss: 0.1400 - accuracy: 0.9529 - val_loss: 0.1459 - val_accuracy: 0.9447\n",
      "Epoch 41/1000\n",
      "40/40 [==============================] - 0s 3ms/step - loss: 0.1431 - accuracy: 0.9541 - val_loss: 0.1357 - val_accuracy: 0.9526\n",
      "Epoch 42/1000\n",
      "40/40 [==============================] - 0s 3ms/step - loss: 0.1400 - accuracy: 0.9533 - val_loss: 0.1380 - val_accuracy: 0.9494\n",
      "Epoch 43/1000\n",
      "40/40 [==============================] - 0s 3ms/step - loss: 0.1386 - accuracy: 0.9518 - val_loss: 0.1366 - val_accuracy: 0.9494\n",
      "Epoch 44/1000\n",
      "40/40 [==============================] - 0s 3ms/step - loss: 0.1410 - accuracy: 0.9518 - val_loss: 0.1383 - val_accuracy: 0.9494\n",
      "Epoch 45/1000\n",
      "40/40 [==============================] - 0s 3ms/step - loss: 0.1403 - accuracy: 0.9522 - val_loss: 0.1378 - val_accuracy: 0.9510\n",
      "Epoch 46/1000\n",
      "40/40 [==============================] - 0s 4ms/step - loss: 0.1374 - accuracy: 0.9541 - val_loss: 0.1387 - val_accuracy: 0.9494\n",
      "Epoch 47/1000\n",
      "40/40 [==============================] - 0s 3ms/step - loss: 0.1373 - accuracy: 0.9522 - val_loss: 0.1450 - val_accuracy: 0.9479\n",
      "Epoch 48/1000\n",
      "40/40 [==============================] - 0s 3ms/step - loss: 0.1409 - accuracy: 0.9549 - val_loss: 0.1511 - val_accuracy: 0.9431\n",
      "Epoch 49/1000\n",
      "40/40 [==============================] - 0s 3ms/step - loss: 0.1388 - accuracy: 0.9506 - val_loss: 0.1338 - val_accuracy: 0.9526\n",
      "Epoch 50/1000\n",
      "40/40 [==============================] - 0s 3ms/step - loss: 0.1352 - accuracy: 0.9541 - val_loss: 0.1337 - val_accuracy: 0.9542\n",
      "Epoch 51/1000\n",
      "40/40 [==============================] - 0s 3ms/step - loss: 0.1355 - accuracy: 0.9522 - val_loss: 0.1340 - val_accuracy: 0.9510\n",
      "Epoch 52/1000\n",
      "40/40 [==============================] - 0s 3ms/step - loss: 0.1346 - accuracy: 0.9553 - val_loss: 0.1401 - val_accuracy: 0.9463\n",
      "Epoch 53/1000\n",
      "40/40 [==============================] - 0s 3ms/step - loss: 0.1339 - accuracy: 0.9537 - val_loss: 0.1344 - val_accuracy: 0.9494\n",
      "Epoch 54/1000\n",
      "40/40 [==============================] - 0s 3ms/step - loss: 0.1333 - accuracy: 0.9541 - val_loss: 0.1330 - val_accuracy: 0.9494\n",
      "Epoch 55/1000\n",
      "40/40 [==============================] - 0s 3ms/step - loss: 0.1349 - accuracy: 0.9529 - val_loss: 0.1400 - val_accuracy: 0.9463\n",
      "Epoch 56/1000\n",
      "40/40 [==============================] - 0s 3ms/step - loss: 0.1332 - accuracy: 0.9533 - val_loss: 0.1417 - val_accuracy: 0.9479\n",
      "Epoch 57/1000\n",
      "40/40 [==============================] - 0s 3ms/step - loss: 0.1342 - accuracy: 0.9522 - val_loss: 0.1319 - val_accuracy: 0.9494\n",
      "Epoch 58/1000\n",
      "40/40 [==============================] - 0s 3ms/step - loss: 0.1338 - accuracy: 0.9533 - val_loss: 0.1356 - val_accuracy: 0.9447\n",
      "Epoch 59/1000\n",
      "40/40 [==============================] - 0s 3ms/step - loss: 0.1319 - accuracy: 0.9557 - val_loss: 0.1313 - val_accuracy: 0.9542\n",
      "Epoch 60/1000\n",
      "40/40 [==============================] - 0s 3ms/step - loss: 0.1309 - accuracy: 0.9553 - val_loss: 0.1320 - val_accuracy: 0.9494\n",
      "Epoch 61/1000\n",
      "40/40 [==============================] - 0s 3ms/step - loss: 0.1326 - accuracy: 0.9541 - val_loss: 0.1264 - val_accuracy: 0.9558\n",
      "Epoch 62/1000\n",
      "40/40 [==============================] - 0s 4ms/step - loss: 0.1350 - accuracy: 0.9565 - val_loss: 0.1326 - val_accuracy: 0.9510\n",
      "Epoch 63/1000\n",
      "40/40 [==============================] - 0s 3ms/step - loss: 0.1325 - accuracy: 0.9537 - val_loss: 0.1334 - val_accuracy: 0.9510\n",
      "Epoch 64/1000\n",
      "40/40 [==============================] - 0s 3ms/step - loss: 0.1323 - accuracy: 0.9553 - val_loss: 0.1307 - val_accuracy: 0.9494\n",
      "Epoch 65/1000\n",
      "40/40 [==============================] - 0s 3ms/step - loss: 0.1309 - accuracy: 0.9557 - val_loss: 0.1372 - val_accuracy: 0.9479\n",
      "Epoch 66/1000\n",
      "40/40 [==============================] - 0s 3ms/step - loss: 0.1341 - accuracy: 0.9533 - val_loss: 0.1334 - val_accuracy: 0.9463\n",
      "Epoch 67/1000\n",
      "40/40 [==============================] - 0s 3ms/step - loss: 0.1293 - accuracy: 0.9561 - val_loss: 0.1423 - val_accuracy: 0.9447\n",
      "Epoch 68/1000\n",
      "40/40 [==============================] - 0s 3ms/step - loss: 0.1329 - accuracy: 0.9526 - val_loss: 0.1266 - val_accuracy: 0.9510\n",
      "Epoch 69/1000\n",
      "40/40 [==============================] - 0s 3ms/step - loss: 0.1308 - accuracy: 0.9541 - val_loss: 0.1292 - val_accuracy: 0.9494\n",
      "Epoch 70/1000\n",
      "40/40 [==============================] - 0s 2ms/step - loss: 0.1292 - accuracy: 0.9529 - val_loss: 0.1330 - val_accuracy: 0.9510\n",
      "Epoch 71/1000\n",
      "40/40 [==============================] - 0s 3ms/step - loss: 0.1288 - accuracy: 0.9545 - val_loss: 0.1313 - val_accuracy: 0.9494\n"
     ]
    }
   ],
   "source": [
    "# EarlyStopping 콜백 정의\n",
    "early_stopping = EarlyStopping(monitor='val_loss', patience=10, restore_best_weights=True)\n",
    "\n",
    "# 모델 컴파일\n",
    "model.compile(optimizer='adam', loss='binary_crossentropy', metrics=['accuracy'])\n",
    "\n",
    "# 모델 학습\n",
    "history = model.fit(X_train_scaled, y_train, validation_data=(X_test_scaled, y_test), \n",
    "                    epochs=1000, batch_size=64, callbacks=[early_stopping])\n"
   ]
  },
  {
   "cell_type": "code",
   "execution_count": 11,
   "id": "83d6b4ed",
   "metadata": {
    "ExecuteTime": {
     "end_time": "2023-06-02T11:01:09.569316Z",
     "start_time": "2023-06-02T11:01:09.438308Z"
    }
   },
   "outputs": [
    {
     "name": "stdout",
     "output_type": "stream",
     "text": [
      "20/20 [==============================] - 0s 2ms/step - loss: 0.1264 - accuracy: 0.9558\n",
      "Test accuracy: 0.9557662010192871\n"
     ]
    }
   ],
   "source": [
    "loss, accuracy = model.evaluate(X_test_scaled, y_test)\n",
    "print('Test accuracy:', accuracy)"
   ]
  },
  {
   "cell_type": "code",
   "execution_count": 12,
   "id": "c7f17dfb",
   "metadata": {
    "ExecuteTime": {
     "end_time": "2023-06-02T11:01:09.584276Z",
     "start_time": "2023-06-02T11:01:09.572310Z"
    }
   },
   "outputs": [
    {
     "name": "stdout",
     "output_type": "stream",
     "text": [
      "Test loss:  0.1264045387506485\n"
     ]
    }
   ],
   "source": [
    "print('Test loss: ', loss)"
   ]
  },
  {
   "cell_type": "code",
   "execution_count": 13,
   "id": "21b83d4e",
   "metadata": {
    "ExecuteTime": {
     "end_time": "2023-06-02T11:01:10.586984Z",
     "start_time": "2023-06-02T11:01:09.587285Z"
    }
   },
   "outputs": [
    {
     "data": {
      "image/png": "[encoded data removed]",
      "text/plain": [
       "<Figure size 432x288 with 1 Axes>"
      ]
     },
     "metadata": {
      "needs_background": "light"
     },
     "output_type": "display_data"
    },
    {
     "data": {
      "image/png": "[encoded data removed]",
      "text/plain": [
       "<Figure size 432x288 with 1 Axes>"
      ]
     },
     "metadata": {
      "needs_background": "light"
     },
     "output_type": "display_data"
    }
   ],
   "source": [
    "import matplotlib.pyplot as plt\n",
    "\n",
    "# history 객체에서 손실값과 정확도를 추출합니다.\n",
    "train_loss = history.history['loss']\n",
    "val_loss = history.history['val_loss']\n",
    "train_acc = history.history['accuracy']\n",
    "val_acc = history.history['val_accuracy']\n",
    "\n",
    "# 손실값 그래프\n",
    "plt.plot(train_loss, label='train_loss')\n",
    "plt.plot(val_loss, label='val_loss')\n",
    "plt.legend()\n",
    "plt.title('Loss')\n",
    "plt.show()\n",
    "\n",
    "# 정확도 그래프\n",
    "plt.plot(train_acc, label='train_acc')\n",
    "plt.plot(val_acc, label='val_acc')\n",
    "plt.legend()\n",
    "plt.title('Accuracy')\n",
    "plt.show()\n"
   ]
  }
 ],
 "metadata": {
  "kernelspec": {
   "display_name": "Python 3 (ipykernel)",
   "language": "python",
   "name": "python3"
  },
  "language_info": {
   "codemirror_mode": {
    "name": "ipython",
    "version": 3
   },
   "file_extension": ".py",
   "mimetype": "text/x-python",
   "name": "python",
   "nbconvert_exporter": "python",
   "pygments_lexer": "ipython3",
   "version": "3.9.12"
  },
  "toc": {
   "base_numbering": 1,
   "nav_menu": {},
   "number_sections": false,
   "sideBar": true,
   "skip_h1_title": false,
   "title_cell": "Table of Contents",
   "title_sidebar": "Contents",
   "toc_cell": false,
   "toc_position": {},
   "toc_section_display": true,
   "toc_window_display": false
  },
  "varInspector": {
   "cols": {
    "lenName": 16,
    "lenType": 16,
    "lenVar": 40
   },
   "kernels_config": {
    "python": {
     "delete_cmd_postfix": "",
     "delete_cmd_prefix": "del ",
     "library": "var_list.py",
     "varRefreshCmd": "print(var_dic_list())"
    },
    "r": {
     "delete_cmd_postfix": ") ",
     "delete_cmd_prefix": "rm(",
     "library": "var_list.r",
     "varRefreshCmd": "cat(var_dic_list()) "
    }
   },
   "types_to_exclude": [
    "module",
    "function",
    "builtin_function_or_method",
    "instance",
    "_Feature"
   ],
   "window_display": false
  }
 },
 "nbformat": 4,
 "nbformat_minor": 5
}
