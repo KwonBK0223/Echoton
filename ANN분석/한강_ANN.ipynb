{
 "cells": [
  {
   "cell_type": "code",
   "execution_count": 1,
   "id": "8110df4f",
   "metadata": {
    "ExecuteTime": {
     "end_time": "2023-06-02T10:58:24.098293Z",
     "start_time": "2023-06-02T10:58:18.891123Z"
    }
   },
   "outputs": [],
   "source": [
    "import pandas as pd\n",
    "from sklearn.model_selection import train_test_split\n",
    "from tensorflow.keras.models import Sequential\n",
    "from tensorflow.keras.layers import Dense\n",
    "from sklearn.preprocessing import MinMaxScaler\n",
    "from tensorflow.keras.models import Sequential\n",
    "from keras.callbacks import EarlyStopping"
   ]
  },
  {
   "cell_type": "code",
   "execution_count": 2,
   "id": "eb49c320",
   "metadata": {
    "ExecuteTime": {
     "end_time": "2023-06-02T10:58:24.129368Z",
     "start_time": "2023-06-02T10:58:24.100484Z"
    }
   },
   "outputs": [],
   "source": [
    "hg = pd.read_csv(\"df_han1.csv\")"
   ]
  },
  {
   "cell_type": "code",
   "execution_count": 3,
   "id": "18a229a1",
   "metadata": {
    "ExecuteTime": {
     "end_time": "2023-06-02T10:58:24.144310Z",
     "start_time": "2023-06-02T10:58:24.135340Z"
    }
   },
   "outputs": [],
   "source": [
    "hg2 = hg.iloc[:,4:]"
   ]
  },
  {
   "cell_type": "code",
   "execution_count": 4,
   "id": "9ca335a9",
   "metadata": {
    "ExecuteTime": {
     "end_time": "2023-06-02T10:58:24.175227Z",
     "start_time": "2023-06-02T10:58:24.148301Z"
    }
   },
   "outputs": [
    {
     "data": {
      "text/plain": [
       "array([0, 1], dtype=int64)"
      ]
     },
     "execution_count": 4,
     "metadata": {},
     "output_type": "execute_result"
    }
   ],
   "source": [
    "hg2[\"경계발령\"].unique()"
   ]
  },
  {
   "cell_type": "code",
   "execution_count": 5,
   "id": "a64827de",
   "metadata": {
    "ExecuteTime": {
     "end_time": "2023-06-02T10:58:24.205365Z",
     "start_time": "2023-06-02T10:58:24.178219Z"
    }
   },
   "outputs": [],
   "source": [
    "# 입력변수와 출력 변수 분리\n",
    "X = hg2.drop(columns=['경계발령','유해남조류 세포수 (cells/㎖)'])\n",
    "y = hg2[[\"경계발령\"]]"
   ]
  },
  {
   "cell_type": "code",
   "execution_count": 6,
   "id": "1caffb05",
   "metadata": {
    "ExecuteTime": {
     "end_time": "2023-06-02T10:58:24.312201Z",
     "start_time": "2023-06-02T10:58:24.210352Z"
    }
   },
   "outputs": [],
   "source": [
    "# 데이터를 훈련용과 검증용으로 분리\n",
    "X_train, X_test, y_train, y_test = train_test_split(X, y, test_size=0.2, random_state=1)"
   ]
  },
  {
   "cell_type": "code",
   "execution_count": 7,
   "id": "638c9ee7",
   "metadata": {
    "ExecuteTime": {
     "end_time": "2023-06-02T10:58:24.691400Z",
     "start_time": "2023-06-02T10:58:24.315163Z"
    }
   },
   "outputs": [],
   "source": [
    "# 스케일링\n",
    "scaler = MinMaxScaler()\n",
    "X_train_scaled = scaler.fit_transform(X_train)\n",
    "X_test_scaled = scaler.transform(X_test)"
   ]
  },
  {
   "cell_type": "code",
   "execution_count": 8,
   "id": "474741e5",
   "metadata": {
    "ExecuteTime": {
     "end_time": "2023-06-02T10:58:24.811234Z",
     "start_time": "2023-06-02T10:58:24.694371Z"
    }
   },
   "outputs": [],
   "source": [
    "# 모델 설계\n",
    "model = Sequential()\n",
    "\n",
    "model.add(Dense(64, input_dim=X_train_scaled.shape[1], activation='relu'))\n",
    "model.add(Dense(32, activation='relu'))\n",
    "model.add(Dense(32, activation='relu'))\n",
    "model.add(Dense(1, activation='sigmoid'))"
   ]
  },
  {
   "cell_type": "code",
   "execution_count": 9,
   "id": "bbfefe1a",
   "metadata": {
    "ExecuteTime": {
     "end_time": "2023-06-02T10:58:27.003426Z",
     "start_time": "2023-06-02T10:58:24.813233Z"
    },
    "scrolled": true
   },
   "outputs": [
    {
     "name": "stdout",
     "output_type": "stream",
     "text": [
      "Epoch 1/100\n",
      "10/10 [==============================] - 1s 40ms/step - loss: 0.6542 - accuracy: 0.8010 - val_loss: 0.5780 - val_accuracy: 0.9934\n",
      "Epoch 2/100\n",
      "10/10 [==============================] - 0s 5ms/step - loss: 0.5198 - accuracy: 1.0000 - val_loss: 0.4405 - val_accuracy: 0.9934\n",
      "Epoch 3/100\n",
      "10/10 [==============================] - 0s 5ms/step - loss: 0.3686 - accuracy: 1.0000 - val_loss: 0.2791 - val_accuracy: 0.9934\n",
      "Epoch 4/100\n",
      "10/10 [==============================] - 0s 5ms/step - loss: 0.2048 - accuracy: 1.0000 - val_loss: 0.1391 - val_accuracy: 0.9934\n",
      "Epoch 5/100\n",
      "10/10 [==============================] - 0s 5ms/step - loss: 0.0871 - accuracy: 1.0000 - val_loss: 0.0684 - val_accuracy: 0.9934\n",
      "Epoch 6/100\n",
      "10/10 [==============================] - 0s 5ms/step - loss: 0.0324 - accuracy: 1.0000 - val_loss: 0.0459 - val_accuracy: 0.9934\n",
      "Epoch 7/100\n",
      "10/10 [==============================] - 0s 5ms/step - loss: 0.0131 - accuracy: 1.0000 - val_loss: 0.0417 - val_accuracy: 0.9934\n",
      "Epoch 8/100\n",
      "10/10 [==============================] - 0s 5ms/step - loss: 0.0064 - accuracy: 1.0000 - val_loss: 0.0422 - val_accuracy: 0.9934\n",
      "Epoch 9/100\n",
      "10/10 [==============================] - 0s 5ms/step - loss: 0.0038 - accuracy: 1.0000 - val_loss: 0.0437 - val_accuracy: 0.9934\n",
      "Epoch 10/100\n",
      "10/10 [==============================] - 0s 4ms/step - loss: 0.0026 - accuracy: 1.0000 - val_loss: 0.0453 - val_accuracy: 0.9934\n",
      "Epoch 11/100\n",
      "10/10 [==============================] - 0s 4ms/step - loss: 0.0019 - accuracy: 1.0000 - val_loss: 0.0467 - val_accuracy: 0.9934\n",
      "Epoch 12/100\n",
      "10/10 [==============================] - 0s 5ms/step - loss: 0.0015 - accuracy: 1.0000 - val_loss: 0.0480 - val_accuracy: 0.9934\n",
      "Epoch 13/100\n",
      "10/10 [==============================] - 0s 5ms/step - loss: 0.0012 - accuracy: 1.0000 - val_loss: 0.0492 - val_accuracy: 0.9934\n",
      "Epoch 14/100\n",
      "10/10 [==============================] - 0s 5ms/step - loss: 9.8621e-04 - accuracy: 1.0000 - val_loss: 0.0504 - val_accuracy: 0.9934\n",
      "Epoch 15/100\n",
      "10/10 [==============================] - 0s 5ms/step - loss: 8.2434e-04 - accuracy: 1.0000 - val_loss: 0.0515 - val_accuracy: 0.9934\n",
      "Epoch 16/100\n",
      "10/10 [==============================] - 0s 5ms/step - loss: 7.0199e-04 - accuracy: 1.0000 - val_loss: 0.0525 - val_accuracy: 0.9934\n",
      "Epoch 17/100\n",
      "10/10 [==============================] - 0s 5ms/step - loss: 6.0099e-04 - accuracy: 1.0000 - val_loss: 0.0537 - val_accuracy: 0.9934\n"
     ]
    }
   ],
   "source": [
    "# EarlyStopping 콜백 정의\n",
    "early_stopping = EarlyStopping(monitor='val_loss', patience=10, restore_best_weights=True)\n",
    "\n",
    "# 모델 컴파일\n",
    "model.compile(optimizer='adam', loss='binary_crossentropy', metrics=['accuracy'])\n",
    "\n",
    "# 모델 학습\n",
    "history = model.fit(X_train_scaled, y_train, validation_data=(X_test_scaled, y_test), \n",
    "                    epochs=100, batch_size=64, callbacks=[early_stopping])\n"
   ]
  },
  {
   "cell_type": "code",
   "execution_count": 10,
   "id": "10025ccd",
   "metadata": {
    "ExecuteTime": {
     "end_time": "2023-06-02T10:58:27.093537Z",
     "start_time": "2023-06-02T10:58:27.006421Z"
    }
   },
   "outputs": [
    {
     "name": "stdout",
     "output_type": "stream",
     "text": [
      "5/5 [==============================] - 0s 2ms/step - loss: 0.0417 - accuracy: 0.9934\n",
      "Test accuracy: 0.9934210777282715\n"
     ]
    }
   ],
   "source": [
    "loss, accuracy = model.evaluate(X_test_scaled, y_test)\n",
    "print('Test accuracy:', accuracy)"
   ]
  },
  {
   "cell_type": "code",
   "execution_count": 11,
   "id": "66af1883",
   "metadata": {
    "ExecuteTime": {
     "end_time": "2023-06-02T10:58:27.109134Z",
     "start_time": "2023-06-02T10:58:27.094941Z"
    }
   },
   "outputs": [
    {
     "name": "stdout",
     "output_type": "stream",
     "text": [
      "Test loss:  0.04174583777785301\n"
     ]
    }
   ],
   "source": [
    "print('Test loss: ', loss)"
   ]
  },
  {
   "cell_type": "code",
   "execution_count": 12,
   "id": "2355873c",
   "metadata": {
    "ExecuteTime": {
     "end_time": "2023-06-02T10:58:28.052929Z",
     "start_time": "2023-06-02T10:58:27.115066Z"
    }
   },
   "outputs": [
    {
     "data": {
      "image/png": "[encoded data removed]",
      "text/plain": [
       "<Figure size 432x288 with 1 Axes>"
      ]
     },
     "metadata": {
      "needs_background": "light"
     },
     "output_type": "display_data"
    },
    {
     "data": {
      "image/png": "[encoded data removed]",
      "text/plain": [
       "<Figure size 432x288 with 1 Axes>"
      ]
     },
     "metadata": {
      "needs_background": "light"
     },
     "output_type": "display_data"
    }
   ],
   "source": [
    "import matplotlib.pyplot as plt\n",
    "\n",
    "# history 객체에서 손실값과 정확도를 추출합니다.\n",
    "train_loss = history.history['loss']\n",
    "val_loss = history.history['val_loss']\n",
    "train_acc = history.history['accuracy']\n",
    "val_acc = history.history['val_accuracy']\n",
    "\n",
    "# 손실값 그래프\n",
    "plt.plot(train_loss, label='train_loss')\n",
    "plt.plot(val_loss, label='val_loss')\n",
    "plt.legend()\n",
    "plt.title('Loss')\n",
    "plt.show()\n",
    "\n",
    "# 정확도 그래프\n",
    "plt.plot(train_acc, label='train_acc')\n",
    "plt.plot(val_acc, label='val_acc')\n",
    "plt.legend()\n",
    "plt.title('Accuracy')\n",
    "plt.show()\n"
   ]
  }
 ],
 "metadata": {
  "kernelspec": {
   "display_name": "Python 3 (ipykernel)",
   "language": "python",
   "name": "python3"
  },
  "language_info": {
   "codemirror_mode": {
    "name": "ipython",
    "version": 3
   },
   "file_extension": ".py",
   "mimetype": "text/x-python",
   "name": "python",
   "nbconvert_exporter": "python",
   "pygments_lexer": "ipython3",
   "version": "3.9.12"
  },
  "toc": {
   "base_numbering": 1,
   "nav_menu": {},
   "number_sections": false,
   "sideBar": true,
   "skip_h1_title": false,
   "title_cell": "Table of Contents",
   "title_sidebar": "Contents",
   "toc_cell": false,
   "toc_position": {},
   "toc_section_display": true,
   "toc_window_display": false
  },
  "varInspector": {
   "cols": {
    "lenName": 16,
    "lenType": 16,
    "lenVar": 40
   },
   "kernels_config": {
    "python": {
     "delete_cmd_postfix": "",
     "delete_cmd_prefix": "del ",
     "library": "var_list.py",
     "varRefreshCmd": "print(var_dic_list())"
    },
    "r": {
     "delete_cmd_postfix": ") ",
     "delete_cmd_prefix": "rm(",
     "library": "var_list.r",
     "varRefreshCmd": "cat(var_dic_list()) "
    }
   },
   "types_to_exclude": [
    "module",
    "function",
    "builtin_function_or_method",
    "instance",
    "_Feature"
   ],
   "window_display": false
  }
 },
 "nbformat": 4,
 "nbformat_minor": 5
}
