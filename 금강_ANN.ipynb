{
 "cells": [
  {
   "cell_type": "code",
   "execution_count": 1,
   "id": "1944db67",
   "metadata": {
    "ExecuteTime": {
     "end_time": "2023-06-02T11:30:41.959427Z",
     "start_time": "2023-06-02T11:30:29.596241Z"
    }
   },
   "outputs": [
    {
     "name": "stdout",
     "output_type": "stream",
     "text": [
      "Epoch 1/1000\n",
      "13/13 [==============================] - 1s 28ms/step - loss: 0.6496 - accuracy: 0.7651 - val_loss: 0.5649 - val_accuracy: 0.9803\n",
      "Epoch 2/1000\n",
      "13/13 [==============================] - 0s 5ms/step - loss: 0.4903 - accuracy: 0.9790 - val_loss: 0.3821 - val_accuracy: 0.9803\n",
      "Epoch 3/1000\n",
      "13/13 [==============================] - 0s 6ms/step - loss: 0.2990 - accuracy: 0.9790 - val_loss: 0.2012 - val_accuracy: 0.9803\n",
      "Epoch 4/1000\n",
      "13/13 [==============================] - 0s 6ms/step - loss: 0.1594 - accuracy: 0.9790 - val_loss: 0.1125 - val_accuracy: 0.9803\n",
      "Epoch 5/1000\n",
      "13/13 [==============================] - 0s 5ms/step - loss: 0.1104 - accuracy: 0.9790 - val_loss: 0.0974 - val_accuracy: 0.9803\n",
      "Epoch 6/1000\n",
      "13/13 [==============================] - 0s 5ms/step - loss: 0.1042 - accuracy: 0.9790 - val_loss: 0.0956 - val_accuracy: 0.9803\n",
      "Epoch 7/1000\n",
      "13/13 [==============================] - 0s 5ms/step - loss: 0.1023 - accuracy: 0.9790 - val_loss: 0.0933 - val_accuracy: 0.9803\n",
      "Epoch 8/1000\n",
      "13/13 [==============================] - 0s 5ms/step - loss: 0.0998 - accuracy: 0.9790 - val_loss: 0.0914 - val_accuracy: 0.9803\n",
      "Epoch 9/1000\n",
      "13/13 [==============================] - 0s 5ms/step - loss: 0.0971 - accuracy: 0.9790 - val_loss: 0.0894 - val_accuracy: 0.9803\n",
      "Epoch 10/1000\n",
      "13/13 [==============================] - 0s 8ms/step - loss: 0.0945 - accuracy: 0.9790 - val_loss: 0.0870 - val_accuracy: 0.9803\n",
      "Epoch 11/1000\n",
      "13/13 [==============================] - 0s 5ms/step - loss: 0.0915 - accuracy: 0.9790 - val_loss: 0.0844 - val_accuracy: 0.9803\n",
      "Epoch 12/1000\n",
      "13/13 [==============================] - 0s 5ms/step - loss: 0.0882 - accuracy: 0.9790 - val_loss: 0.0818 - val_accuracy: 0.9803\n",
      "Epoch 13/1000\n",
      "13/13 [==============================] - 0s 5ms/step - loss: 0.0850 - accuracy: 0.9790 - val_loss: 0.0791 - val_accuracy: 0.9803\n",
      "Epoch 14/1000\n",
      "13/13 [==============================] - 0s 5ms/step - loss: 0.0821 - accuracy: 0.9790 - val_loss: 0.0762 - val_accuracy: 0.9803\n",
      "Epoch 15/1000\n",
      "13/13 [==============================] - 0s 6ms/step - loss: 0.0784 - accuracy: 0.9790 - val_loss: 0.0734 - val_accuracy: 0.9803\n",
      "Epoch 16/1000\n",
      "13/13 [==============================] - 0s 7ms/step - loss: 0.0754 - accuracy: 0.9790 - val_loss: 0.0710 - val_accuracy: 0.9803\n",
      "Epoch 17/1000\n",
      "13/13 [==============================] - 0s 7ms/step - loss: 0.0733 - accuracy: 0.9790 - val_loss: 0.0689 - val_accuracy: 0.9803\n",
      "Epoch 18/1000\n",
      "13/13 [==============================] - 0s 6ms/step - loss: 0.0692 - accuracy: 0.9790 - val_loss: 0.0665 - val_accuracy: 0.9803\n",
      "Epoch 19/1000\n",
      "13/13 [==============================] - 0s 4ms/step - loss: 0.0661 - accuracy: 0.9790 - val_loss: 0.0650 - val_accuracy: 0.9803\n",
      "Epoch 20/1000\n",
      "13/13 [==============================] - 0s 6ms/step - loss: 0.0643 - accuracy: 0.9790 - val_loss: 0.0630 - val_accuracy: 0.9803\n",
      "Epoch 21/1000\n",
      "13/13 [==============================] - 0s 6ms/step - loss: 0.0614 - accuracy: 0.9790 - val_loss: 0.0617 - val_accuracy: 0.9803\n",
      "Epoch 22/1000\n",
      "13/13 [==============================] - 0s 7ms/step - loss: 0.0607 - accuracy: 0.9790 - val_loss: 0.0610 - val_accuracy: 0.9803\n",
      "Epoch 23/1000\n",
      "13/13 [==============================] - 0s 6ms/step - loss: 0.0583 - accuracy: 0.9790 - val_loss: 0.0586 - val_accuracy: 0.9803\n",
      "Epoch 24/1000\n",
      "13/13 [==============================] - 0s 6ms/step - loss: 0.0566 - accuracy: 0.9790 - val_loss: 0.0581 - val_accuracy: 0.9803\n",
      "Epoch 25/1000\n",
      "13/13 [==============================] - 0s 7ms/step - loss: 0.0544 - accuracy: 0.9790 - val_loss: 0.0565 - val_accuracy: 0.9803\n",
      "Epoch 26/1000\n",
      "13/13 [==============================] - 0s 5ms/step - loss: 0.0539 - accuracy: 0.9790 - val_loss: 0.0555 - val_accuracy: 0.9803\n",
      "Epoch 27/1000\n",
      "13/13 [==============================] - 0s 5ms/step - loss: 0.0528 - accuracy: 0.9790 - val_loss: 0.0555 - val_accuracy: 0.9803\n",
      "Epoch 28/1000\n",
      "13/13 [==============================] - 0s 5ms/step - loss: 0.0512 - accuracy: 0.9790 - val_loss: 0.0542 - val_accuracy: 0.9803\n",
      "Epoch 29/1000\n",
      "13/13 [==============================] - 0s 7ms/step - loss: 0.0515 - accuracy: 0.9790 - val_loss: 0.0540 - val_accuracy: 0.9803\n",
      "Epoch 30/1000\n",
      "13/13 [==============================] - 0s 5ms/step - loss: 0.0510 - accuracy: 0.9815 - val_loss: 0.0550 - val_accuracy: 0.9803\n",
      "Epoch 31/1000\n",
      "13/13 [==============================] - 0s 5ms/step - loss: 0.0498 - accuracy: 0.9815 - val_loss: 0.0534 - val_accuracy: 0.9803\n",
      "Epoch 32/1000\n",
      "13/13 [==============================] - 0s 6ms/step - loss: 0.0494 - accuracy: 0.9815 - val_loss: 0.0536 - val_accuracy: 0.9852\n",
      "Epoch 33/1000\n",
      "13/13 [==============================] - 0s 7ms/step - loss: 0.0488 - accuracy: 0.9815 - val_loss: 0.0528 - val_accuracy: 0.9852\n",
      "Epoch 34/1000\n",
      "13/13 [==============================] - 0s 6ms/step - loss: 0.0494 - accuracy: 0.9827 - val_loss: 0.0521 - val_accuracy: 0.9803\n",
      "Epoch 35/1000\n",
      "13/13 [==============================] - 0s 6ms/step - loss: 0.0499 - accuracy: 0.9815 - val_loss: 0.0518 - val_accuracy: 0.9803\n",
      "Epoch 36/1000\n",
      "13/13 [==============================] - 0s 6ms/step - loss: 0.0470 - accuracy: 0.9839 - val_loss: 0.0543 - val_accuracy: 0.9852\n",
      "Epoch 37/1000\n",
      "13/13 [==============================] - 0s 6ms/step - loss: 0.0489 - accuracy: 0.9839 - val_loss: 0.0515 - val_accuracy: 0.9852\n",
      "Epoch 38/1000\n",
      "13/13 [==============================] - 0s 5ms/step - loss: 0.0474 - accuracy: 0.9827 - val_loss: 0.0529 - val_accuracy: 0.9852\n",
      "Epoch 39/1000\n",
      "13/13 [==============================] - 0s 5ms/step - loss: 0.0470 - accuracy: 0.9827 - val_loss: 0.0513 - val_accuracy: 0.9852\n",
      "Epoch 40/1000\n",
      "13/13 [==============================] - 0s 5ms/step - loss: 0.0470 - accuracy: 0.9827 - val_loss: 0.0515 - val_accuracy: 0.9852\n",
      "Epoch 41/1000\n",
      "13/13 [==============================] - 0s 5ms/step - loss: 0.0471 - accuracy: 0.9827 - val_loss: 0.0519 - val_accuracy: 0.9901\n",
      "Epoch 42/1000\n",
      "13/13 [==============================] - 0s 5ms/step - loss: 0.0457 - accuracy: 0.9827 - val_loss: 0.0510 - val_accuracy: 0.9852\n",
      "Epoch 43/1000\n",
      "13/13 [==============================] - 0s 5ms/step - loss: 0.0463 - accuracy: 0.9827 - val_loss: 0.0517 - val_accuracy: 0.9901\n",
      "Epoch 44/1000\n",
      "13/13 [==============================] - 0s 5ms/step - loss: 0.0458 - accuracy: 0.9827 - val_loss: 0.0511 - val_accuracy: 0.9901\n",
      "Epoch 45/1000\n",
      "13/13 [==============================] - 0s 6ms/step - loss: 0.0457 - accuracy: 0.9827 - val_loss: 0.0524 - val_accuracy: 0.9901\n",
      "Epoch 46/1000\n",
      "13/13 [==============================] - 0s 6ms/step - loss: 0.0482 - accuracy: 0.9827 - val_loss: 0.0517 - val_accuracy: 0.9901\n",
      "Epoch 47/1000\n",
      "13/13 [==============================] - 0s 5ms/step - loss: 0.0457 - accuracy: 0.9815 - val_loss: 0.0510 - val_accuracy: 0.9901\n",
      "Epoch 48/1000\n",
      "13/13 [==============================] - 0s 5ms/step - loss: 0.0456 - accuracy: 0.9839 - val_loss: 0.0517 - val_accuracy: 0.9901\n",
      "Epoch 49/1000\n",
      "13/13 [==============================] - 0s 5ms/step - loss: 0.0450 - accuracy: 0.9827 - val_loss: 0.0512 - val_accuracy: 0.9901\n",
      "Epoch 50/1000\n",
      "13/13 [==============================] - 0s 5ms/step - loss: 0.0443 - accuracy: 0.9827 - val_loss: 0.0512 - val_accuracy: 0.9901\n",
      "Epoch 51/1000\n",
      "13/13 [==============================] - 0s 5ms/step - loss: 0.0455 - accuracy: 0.9827 - val_loss: 0.0509 - val_accuracy: 0.9901\n",
      "Epoch 52/1000\n",
      "13/13 [==============================] - 0s 5ms/step - loss: 0.0444 - accuracy: 0.9827 - val_loss: 0.0515 - val_accuracy: 0.9803\n",
      "Epoch 53/1000\n",
      "13/13 [==============================] - 0s 5ms/step - loss: 0.0450 - accuracy: 0.9815 - val_loss: 0.0509 - val_accuracy: 0.9901\n",
      "Epoch 54/1000\n",
      "13/13 [==============================] - 0s 5ms/step - loss: 0.0454 - accuracy: 0.9852 - val_loss: 0.0515 - val_accuracy: 0.9803\n",
      "Epoch 55/1000\n",
      "13/13 [==============================] - 0s 5ms/step - loss: 0.0446 - accuracy: 0.9827 - val_loss: 0.0508 - val_accuracy: 0.9852\n",
      "Epoch 56/1000\n",
      "13/13 [==============================] - 0s 5ms/step - loss: 0.0435 - accuracy: 0.9827 - val_loss: 0.0516 - val_accuracy: 0.9803\n",
      "Epoch 57/1000\n",
      "13/13 [==============================] - 0s 6ms/step - loss: 0.0440 - accuracy: 0.9827 - val_loss: 0.0515 - val_accuracy: 0.9803\n",
      "Epoch 58/1000\n"
     ]
    },
    {
     "name": "stdout",
     "output_type": "stream",
     "text": [
      "13/13 [==============================] - 0s 4ms/step - loss: 0.0436 - accuracy: 0.9827 - val_loss: 0.0514 - val_accuracy: 0.9803\n",
      "Epoch 59/1000\n",
      "13/13 [==============================] - 0s 4ms/step - loss: 0.0434 - accuracy: 0.9852 - val_loss: 0.0524 - val_accuracy: 0.9803\n",
      "Epoch 60/1000\n",
      "13/13 [==============================] - 0s 5ms/step - loss: 0.0460 - accuracy: 0.9827 - val_loss: 0.0513 - val_accuracy: 0.9803\n",
      "Epoch 61/1000\n",
      "13/13 [==============================] - 0s 6ms/step - loss: 0.0460 - accuracy: 0.9852 - val_loss: 0.0527 - val_accuracy: 0.9803\n",
      "Epoch 62/1000\n",
      "13/13 [==============================] - 0s 5ms/step - loss: 0.0417 - accuracy: 0.9839 - val_loss: 0.0507 - val_accuracy: 0.9901\n",
      "Epoch 63/1000\n",
      "13/13 [==============================] - 0s 5ms/step - loss: 0.0433 - accuracy: 0.9827 - val_loss: 0.0511 - val_accuracy: 0.9803\n",
      "Epoch 64/1000\n",
      "13/13 [==============================] - 0s 5ms/step - loss: 0.0421 - accuracy: 0.9839 - val_loss: 0.0524 - val_accuracy: 0.9803\n",
      "Epoch 65/1000\n",
      "13/13 [==============================] - 0s 5ms/step - loss: 0.0443 - accuracy: 0.9839 - val_loss: 0.0519 - val_accuracy: 0.9803\n",
      "Epoch 66/1000\n",
      "13/13 [==============================] - 0s 5ms/step - loss: 0.0418 - accuracy: 0.9839 - val_loss: 0.0528 - val_accuracy: 0.9803\n",
      "Epoch 67/1000\n",
      "13/13 [==============================] - 0s 5ms/step - loss: 0.0420 - accuracy: 0.9864 - val_loss: 0.0522 - val_accuracy: 0.9803\n",
      "Epoch 68/1000\n",
      "13/13 [==============================] - 0s 5ms/step - loss: 0.0424 - accuracy: 0.9852 - val_loss: 0.0520 - val_accuracy: 0.9803\n",
      "Epoch 69/1000\n",
      "13/13 [==============================] - 0s 4ms/step - loss: 0.0423 - accuracy: 0.9827 - val_loss: 0.0524 - val_accuracy: 0.9803\n",
      "Epoch 70/1000\n",
      "13/13 [==============================] - 0s 5ms/step - loss: 0.0422 - accuracy: 0.9827 - val_loss: 0.0521 - val_accuracy: 0.9803\n",
      "Epoch 71/1000\n",
      "13/13 [==============================] - 0s 5ms/step - loss: 0.0416 - accuracy: 0.9864 - val_loss: 0.0546 - val_accuracy: 0.9803\n",
      "Epoch 72/1000\n",
      "13/13 [==============================] - 0s 5ms/step - loss: 0.0424 - accuracy: 0.9839 - val_loss: 0.0522 - val_accuracy: 0.9803\n"
     ]
    }
   ],
   "source": [
    "# 라이브러리 import\n",
    "import pandas as pd\n",
    "from sklearn.model_selection import train_test_split\n",
    "from tensorflow.keras.models import Sequential\n",
    "from tensorflow.keras.layers import Dense\n",
    "from sklearn.preprocessing import MinMaxScaler\n",
    "from tensorflow.keras.models import Sequential\n",
    "from keras.callbacks import EarlyStopping\n",
    "\n",
    "# 데이터 로드\n",
    "kg = pd.read_csv(\"df_geum1.csv\")\n",
    "\n",
    "# 필요없는 열 제거\n",
    "kg2 = kg.iloc[:,4:]\n",
    "\n",
    "# 입력변수와 출력 변수 분리\n",
    "X = kg2.drop(columns=['경계발령',\"유해남조류 세포수 (cells/㎖)\"])\n",
    "y = kg2[[\"경계발령\"]]\n",
    "\n",
    "# 데이터를 훈련용과 검증용으로 분리\n",
    "X_train, X_test, y_train, y_test = train_test_split(X, y, test_size=0.2, random_state=1)\n",
    "\n",
    "# 스케일링\n",
    "scaler = MinMaxScaler()\n",
    "X_train_scaled = scaler.fit_transform(X_train)\n",
    "X_test_scaled = scaler.transform(X_test)\n",
    "\n",
    "# 모델 설계\n",
    "model = Sequential()\n",
    "\n",
    "model.add(Dense(64, input_dim=X_train_scaled.shape[1], activation='relu'))\n",
    "model.add(Dense(32, activation='relu'))\n",
    "model.add(Dense(32, activation='relu'))\n",
    "model.add(Dense(1, activation='sigmoid'))\n",
    "\n",
    "# EarlyStopping 콜백 정의\n",
    "early_stopping = EarlyStopping(monitor='val_loss', patience=10, restore_best_weights=True)\n",
    "\n",
    "# 모델 컴파일\n",
    "model.compile(optimizer='adam', loss='binary_crossentropy', metrics=['accuracy'])\n",
    "\n",
    "# 모델 학습\n",
    "history = model.fit(X_train_scaled, y_train, validation_data=(X_test_scaled, y_test), \n",
    "                    epochs=1000, batch_size=64, callbacks=[early_stopping])\n"
   ]
  },
  {
   "cell_type": "code",
   "execution_count": 2,
   "id": "87a6f0b5",
   "metadata": {
    "ExecuteTime": {
     "end_time": "2023-06-02T11:30:42.080026Z",
     "start_time": "2023-06-02T11:30:41.961400Z"
    }
   },
   "outputs": [
    {
     "name": "stdout",
     "output_type": "stream",
     "text": [
      "7/7 [==============================] - 0s 2ms/step - loss: 0.0507 - accuracy: 0.9901\n",
      "Test accuracy: 0.9901477694511414\n",
      "Test loss:  0.05068041384220123\n"
     ]
    }
   ],
   "source": [
    "loss, accuracy = model.evaluate(X_test_scaled, y_test)\n",
    "print('Test accuracy:', accuracy)\n",
    "print('Test loss: ', loss)"
   ]
  },
  {
   "cell_type": "code",
   "execution_count": 3,
   "id": "c72a80c8",
   "metadata": {
    "ExecuteTime": {
     "end_time": "2023-06-02T11:30:43.412219Z",
     "start_time": "2023-06-02T11:30:42.082895Z"
    }
   },
   "outputs": [
    {
     "data": {
      "image/png": "[encoded data removed]",
      "text/plain": [
       "<Figure size 432x288 with 1 Axes>"
      ]
     },
     "metadata": {
      "needs_background": "light"
     },
     "output_type": "display_data"
    },
    {
     "data": {
      "image/png": "[encoded data removed]",
      "text/plain": [
       "<Figure size 432x288 with 1 Axes>"
      ]
     },
     "metadata": {
      "needs_background": "light"
     },
     "output_type": "display_data"
    }
   ],
   "source": [
    "import matplotlib.pyplot as plt\n",
    "\n",
    "# history 객체에서 손실값과 정확도를 추출합니다.\n",
    "train_loss = history.history['loss']\n",
    "val_loss = history.history['val_loss']\n",
    "train_acc = history.history['accuracy']\n",
    "val_acc = history.history['val_accuracy']\n",
    "\n",
    "# 손실값 그래프\n",
    "plt.plot(train_loss, label='train_loss')\n",
    "plt.plot(val_loss, label='val_loss')\n",
    "plt.legend()\n",
    "plt.title('Loss')\n",
    "plt.show()\n",
    "\n",
    "# 정확도 그래프\n",
    "plt.plot(train_acc, label='train_acc')\n",
    "plt.plot(val_acc, label='val_acc')\n",
    "plt.legend()\n",
    "plt.title('Accuracy')\n",
    "plt.show()\n"
   ]
  }
 ],
 "metadata": {
  "kernelspec": {
   "display_name": "Python 3 (ipykernel)",
   "language": "python",
   "name": "python3"
  },
  "language_info": {
   "codemirror_mode": {
    "name": "ipython",
    "version": 3
   },
   "file_extension": ".py",
   "mimetype": "text/x-python",
   "name": "python",
   "nbconvert_exporter": "python",
   "pygments_lexer": "ipython3",
   "version": "3.9.12"
  },
  "toc": {
   "base_numbering": 1,
   "nav_menu": {},
   "number_sections": false,
   "sideBar": true,
   "skip_h1_title": false,
   "title_cell": "Table of Contents",
   "title_sidebar": "Contents",
   "toc_cell": false,
   "toc_position": {},
   "toc_section_display": true,
   "toc_window_display": false
  },
  "varInspector": {
   "cols": {
    "lenName": 16,
    "lenType": 16,
    "lenVar": 40
   },
   "kernels_config": {
    "python": {
     "delete_cmd_postfix": "",
     "delete_cmd_prefix": "del ",
     "library": "var_list.py",
     "varRefreshCmd": "print(var_dic_list())"
    },
    "r": {
     "delete_cmd_postfix": ") ",
     "delete_cmd_prefix": "rm(",
     "library": "var_list.r",
     "varRefreshCmd": "cat(var_dic_list()) "
    }
   },
   "types_to_exclude": [
    "module",
    "function",
    "builtin_function_or_method",
    "instance",
    "_Feature"
   ],
   "window_display": false
  }
 },
 "nbformat": 4,
 "nbformat_minor": 5
}
