{
 "cells": [
  {
   "cell_type": "code",
   "execution_count": 1,
   "id": "b2328295",
   "metadata": {
    "ExecuteTime": {
     "end_time": "2023-06-02T11:36:43.983577Z",
     "start_time": "2023-06-02T11:36:23.869399Z"
    }
   },
   "outputs": [
    {
     "name": "stdout",
     "output_type": "stream",
     "text": [
      "Epoch 1/1000\n",
      "59/59 [==============================] - 1s 7ms/step - loss: 0.3904 - accuracy: 0.9239 - val_loss: 0.2012 - val_accuracy: 0.9562\n",
      "Epoch 2/1000\n",
      "59/59 [==============================] - 0s 2ms/step - loss: 0.1942 - accuracy: 0.9562 - val_loss: 0.1885 - val_accuracy: 0.9562\n",
      "Epoch 3/1000\n",
      "59/59 [==============================] - 0s 2ms/step - loss: 0.1800 - accuracy: 0.9562 - val_loss: 0.1769 - val_accuracy: 0.9562\n",
      "Epoch 4/1000\n",
      "59/59 [==============================] - 0s 3ms/step - loss: 0.1653 - accuracy: 0.9562 - val_loss: 0.1602 - val_accuracy: 0.9562\n",
      "Epoch 5/1000\n",
      "59/59 [==============================] - 0s 3ms/step - loss: 0.1509 - accuracy: 0.9562 - val_loss: 0.1474 - val_accuracy: 0.9562\n",
      "Epoch 6/1000\n",
      "59/59 [==============================] - 0s 2ms/step - loss: 0.1419 - accuracy: 0.9562 - val_loss: 0.1387 - val_accuracy: 0.9562\n",
      "Epoch 7/1000\n",
      "59/59 [==============================] - 0s 2ms/step - loss: 0.1368 - accuracy: 0.9562 - val_loss: 0.1347 - val_accuracy: 0.9562\n",
      "Epoch 8/1000\n",
      "59/59 [==============================] - 0s 2ms/step - loss: 0.1334 - accuracy: 0.9562 - val_loss: 0.1319 - val_accuracy: 0.9562\n",
      "Epoch 9/1000\n",
      "59/59 [==============================] - 0s 2ms/step - loss: 0.1305 - accuracy: 0.9573 - val_loss: 0.1310 - val_accuracy: 0.9573\n",
      "Epoch 10/1000\n",
      "59/59 [==============================] - 0s 2ms/step - loss: 0.1298 - accuracy: 0.9575 - val_loss: 0.1282 - val_accuracy: 0.9573\n",
      "Epoch 11/1000\n",
      "59/59 [==============================] - 0s 2ms/step - loss: 0.1273 - accuracy: 0.9581 - val_loss: 0.1269 - val_accuracy: 0.9583\n",
      "Epoch 12/1000\n",
      "59/59 [==============================] - 0s 3ms/step - loss: 0.1256 - accuracy: 0.9578 - val_loss: 0.1273 - val_accuracy: 0.9573\n",
      "Epoch 13/1000\n",
      "59/59 [==============================] - 0s 3ms/step - loss: 0.1243 - accuracy: 0.9594 - val_loss: 0.1348 - val_accuracy: 0.9647\n",
      "Epoch 14/1000\n",
      "59/59 [==============================] - 0s 3ms/step - loss: 0.1237 - accuracy: 0.9583 - val_loss: 0.1337 - val_accuracy: 0.9658\n",
      "Epoch 15/1000\n",
      "59/59 [==============================] - 0s 2ms/step - loss: 0.1224 - accuracy: 0.9597 - val_loss: 0.1250 - val_accuracy: 0.9658\n",
      "Epoch 16/1000\n",
      "59/59 [==============================] - 0s 2ms/step - loss: 0.1227 - accuracy: 0.9605 - val_loss: 0.1244 - val_accuracy: 0.9573\n",
      "Epoch 17/1000\n",
      "59/59 [==============================] - 0s 2ms/step - loss: 0.1213 - accuracy: 0.9591 - val_loss: 0.1229 - val_accuracy: 0.9669\n",
      "Epoch 18/1000\n",
      "59/59 [==============================] - 0s 2ms/step - loss: 0.1204 - accuracy: 0.9589 - val_loss: 0.1202 - val_accuracy: 0.9658\n",
      "Epoch 19/1000\n",
      "59/59 [==============================] - 0s 3ms/step - loss: 0.1193 - accuracy: 0.9594 - val_loss: 0.1251 - val_accuracy: 0.9647\n",
      "Epoch 20/1000\n",
      "59/59 [==============================] - 0s 3ms/step - loss: 0.1205 - accuracy: 0.9597 - val_loss: 0.1194 - val_accuracy: 0.9615\n",
      "Epoch 21/1000\n",
      "59/59 [==============================] - 0s 3ms/step - loss: 0.1184 - accuracy: 0.9586 - val_loss: 0.1197 - val_accuracy: 0.9647\n",
      "Epoch 22/1000\n",
      "59/59 [==============================] - 0s 2ms/step - loss: 0.1183 - accuracy: 0.9597 - val_loss: 0.1182 - val_accuracy: 0.9647\n",
      "Epoch 23/1000\n",
      "59/59 [==============================] - 0s 3ms/step - loss: 0.1174 - accuracy: 0.9610 - val_loss: 0.1180 - val_accuracy: 0.9647\n",
      "Epoch 24/1000\n",
      "59/59 [==============================] - 0s 3ms/step - loss: 0.1168 - accuracy: 0.9605 - val_loss: 0.1210 - val_accuracy: 0.9573\n",
      "Epoch 25/1000\n",
      "59/59 [==============================] - 0s 3ms/step - loss: 0.1189 - accuracy: 0.9597 - val_loss: 0.1177 - val_accuracy: 0.9647\n",
      "Epoch 26/1000\n",
      "59/59 [==============================] - 0s 3ms/step - loss: 0.1179 - accuracy: 0.9605 - val_loss: 0.1197 - val_accuracy: 0.9605\n",
      "Epoch 27/1000\n",
      "59/59 [==============================] - 0s 2ms/step - loss: 0.1176 - accuracy: 0.9597 - val_loss: 0.1159 - val_accuracy: 0.9647\n",
      "Epoch 28/1000\n",
      "59/59 [==============================] - 0s 2ms/step - loss: 0.1162 - accuracy: 0.9602 - val_loss: 0.1153 - val_accuracy: 0.9637\n",
      "Epoch 29/1000\n",
      "59/59 [==============================] - 0s 2ms/step - loss: 0.1142 - accuracy: 0.9613 - val_loss: 0.1184 - val_accuracy: 0.9637\n",
      "Epoch 30/1000\n",
      "59/59 [==============================] - 0s 3ms/step - loss: 0.1151 - accuracy: 0.9594 - val_loss: 0.1175 - val_accuracy: 0.9637\n",
      "Epoch 31/1000\n",
      "59/59 [==============================] - 0s 3ms/step - loss: 0.1145 - accuracy: 0.9602 - val_loss: 0.1259 - val_accuracy: 0.9647\n",
      "Epoch 32/1000\n",
      "59/59 [==============================] - 0s 2ms/step - loss: 0.1159 - accuracy: 0.9602 - val_loss: 0.1158 - val_accuracy: 0.9637\n",
      "Epoch 33/1000\n",
      "59/59 [==============================] - 0s 3ms/step - loss: 0.1138 - accuracy: 0.9599 - val_loss: 0.1135 - val_accuracy: 0.9637\n",
      "Epoch 34/1000\n",
      "59/59 [==============================] - 0s 3ms/step - loss: 0.1136 - accuracy: 0.9602 - val_loss: 0.1144 - val_accuracy: 0.9605\n",
      "Epoch 35/1000\n",
      "59/59 [==============================] - 0s 3ms/step - loss: 0.1126 - accuracy: 0.9607 - val_loss: 0.1141 - val_accuracy: 0.9647\n",
      "Epoch 36/1000\n",
      "59/59 [==============================] - 0s 2ms/step - loss: 0.1117 - accuracy: 0.9607 - val_loss: 0.1122 - val_accuracy: 0.9637\n",
      "Epoch 37/1000\n",
      "59/59 [==============================] - 0s 3ms/step - loss: 0.1124 - accuracy: 0.9615 - val_loss: 0.1126 - val_accuracy: 0.9647\n",
      "Epoch 38/1000\n",
      "59/59 [==============================] - 0s 3ms/step - loss: 0.1117 - accuracy: 0.9618 - val_loss: 0.1127 - val_accuracy: 0.9637\n",
      "Epoch 39/1000\n",
      "59/59 [==============================] - 0s 3ms/step - loss: 0.1125 - accuracy: 0.9613 - val_loss: 0.1198 - val_accuracy: 0.9647\n",
      "Epoch 40/1000\n",
      "59/59 [==============================] - 0s 3ms/step - loss: 0.1123 - accuracy: 0.9626 - val_loss: 0.1114 - val_accuracy: 0.9647\n",
      "Epoch 41/1000\n",
      "59/59 [==============================] - 0s 3ms/step - loss: 0.1134 - accuracy: 0.9602 - val_loss: 0.1219 - val_accuracy: 0.9605\n",
      "Epoch 42/1000\n",
      "59/59 [==============================] - 0s 3ms/step - loss: 0.1134 - accuracy: 0.9610 - val_loss: 0.1114 - val_accuracy: 0.9637\n",
      "Epoch 43/1000\n",
      "59/59 [==============================] - 0s 3ms/step - loss: 0.1100 - accuracy: 0.9621 - val_loss: 0.1146 - val_accuracy: 0.9647\n",
      "Epoch 44/1000\n",
      "59/59 [==============================] - 0s 3ms/step - loss: 0.1113 - accuracy: 0.9607 - val_loss: 0.1102 - val_accuracy: 0.9647\n",
      "Epoch 45/1000\n",
      "59/59 [==============================] - 0s 2ms/step - loss: 0.1098 - accuracy: 0.9626 - val_loss: 0.1150 - val_accuracy: 0.9647\n",
      "Epoch 46/1000\n",
      "59/59 [==============================] - 0s 2ms/step - loss: 0.1092 - accuracy: 0.9621 - val_loss: 0.1127 - val_accuracy: 0.9647\n",
      "Epoch 47/1000\n",
      "59/59 [==============================] - 0s 3ms/step - loss: 0.1102 - accuracy: 0.9613 - val_loss: 0.1145 - val_accuracy: 0.9658\n",
      "Epoch 48/1000\n",
      "59/59 [==============================] - 0s 2ms/step - loss: 0.1113 - accuracy: 0.9607 - val_loss: 0.1128 - val_accuracy: 0.9647\n",
      "Epoch 49/1000\n",
      "59/59 [==============================] - 0s 2ms/step - loss: 0.1082 - accuracy: 0.9637 - val_loss: 0.1095 - val_accuracy: 0.9647\n",
      "Epoch 50/1000\n",
      "59/59 [==============================] - 0s 3ms/step - loss: 0.1074 - accuracy: 0.9645 - val_loss: 0.1099 - val_accuracy: 0.9637\n",
      "Epoch 51/1000\n",
      "59/59 [==============================] - 0s 3ms/step - loss: 0.1075 - accuracy: 0.9605 - val_loss: 0.1150 - val_accuracy: 0.9647\n",
      "Epoch 52/1000\n",
      "59/59 [==============================] - 0s 2ms/step - loss: 0.1084 - accuracy: 0.9618 - val_loss: 0.1122 - val_accuracy: 0.9658\n",
      "Epoch 53/1000\n",
      "59/59 [==============================] - 0s 3ms/step - loss: 0.1083 - accuracy: 0.9629 - val_loss: 0.1086 - val_accuracy: 0.9658\n",
      "Epoch 54/1000\n",
      "59/59 [==============================] - 0s 2ms/step - loss: 0.1095 - accuracy: 0.9626 - val_loss: 0.1107 - val_accuracy: 0.9626\n",
      "Epoch 55/1000\n",
      "59/59 [==============================] - 0s 3ms/step - loss: 0.1085 - accuracy: 0.9623 - val_loss: 0.1087 - val_accuracy: 0.9626\n",
      "Epoch 56/1000\n",
      "59/59 [==============================] - 0s 2ms/step - loss: 0.1086 - accuracy: 0.9623 - val_loss: 0.1084 - val_accuracy: 0.9626\n",
      "Epoch 57/1000\n",
      "59/59 [==============================] - 0s 3ms/step - loss: 0.1067 - accuracy: 0.9618 - val_loss: 0.1065 - val_accuracy: 0.9637\n",
      "Epoch 58/1000\n"
     ]
    },
    {
     "name": "stdout",
     "output_type": "stream",
     "text": [
      "59/59 [==============================] - 0s 3ms/step - loss: 0.1057 - accuracy: 0.9621 - val_loss: 0.1075 - val_accuracy: 0.9647\n",
      "Epoch 59/1000\n",
      "59/59 [==============================] - 0s 4ms/step - loss: 0.1057 - accuracy: 0.9623 - val_loss: 0.1070 - val_accuracy: 0.9647\n",
      "Epoch 60/1000\n",
      "59/59 [==============================] - 0s 4ms/step - loss: 0.1054 - accuracy: 0.9607 - val_loss: 0.1086 - val_accuracy: 0.9647\n",
      "Epoch 61/1000\n",
      "59/59 [==============================] - 0s 2ms/step - loss: 0.1061 - accuracy: 0.9607 - val_loss: 0.1094 - val_accuracy: 0.9626\n",
      "Epoch 62/1000\n",
      "59/59 [==============================] - 0s 2ms/step - loss: 0.1042 - accuracy: 0.9634 - val_loss: 0.1059 - val_accuracy: 0.9647\n",
      "Epoch 63/1000\n",
      "59/59 [==============================] - 0s 2ms/step - loss: 0.1061 - accuracy: 0.9639 - val_loss: 0.1060 - val_accuracy: 0.9626\n",
      "Epoch 64/1000\n",
      "59/59 [==============================] - 0s 3ms/step - loss: 0.1045 - accuracy: 0.9639 - val_loss: 0.1073 - val_accuracy: 0.9669\n",
      "Epoch 65/1000\n",
      "59/59 [==============================] - 0s 3ms/step - loss: 0.1042 - accuracy: 0.9637 - val_loss: 0.1069 - val_accuracy: 0.9669\n",
      "Epoch 66/1000\n",
      "59/59 [==============================] - 0s 3ms/step - loss: 0.1057 - accuracy: 0.9621 - val_loss: 0.1059 - val_accuracy: 0.9658\n",
      "Epoch 67/1000\n",
      "59/59 [==============================] - 0s 2ms/step - loss: 0.1071 - accuracy: 0.9631 - val_loss: 0.1060 - val_accuracy: 0.9626\n",
      "Epoch 68/1000\n",
      "59/59 [==============================] - 0s 3ms/step - loss: 0.1049 - accuracy: 0.9626 - val_loss: 0.1053 - val_accuracy: 0.9658\n",
      "Epoch 69/1000\n",
      "59/59 [==============================] - 0s 2ms/step - loss: 0.1063 - accuracy: 0.9626 - val_loss: 0.1127 - val_accuracy: 0.9605\n",
      "Epoch 70/1000\n",
      "59/59 [==============================] - 0s 3ms/step - loss: 0.1046 - accuracy: 0.9631 - val_loss: 0.1048 - val_accuracy: 0.9637\n",
      "Epoch 71/1000\n",
      "59/59 [==============================] - 0s 2ms/step - loss: 0.1049 - accuracy: 0.9621 - val_loss: 0.1065 - val_accuracy: 0.9669\n",
      "Epoch 72/1000\n",
      "59/59 [==============================] - 0s 2ms/step - loss: 0.1051 - accuracy: 0.9613 - val_loss: 0.1118 - val_accuracy: 0.9690\n",
      "Epoch 73/1000\n",
      "59/59 [==============================] - 0s 3ms/step - loss: 0.1064 - accuracy: 0.9613 - val_loss: 0.1043 - val_accuracy: 0.9669\n",
      "Epoch 74/1000\n",
      "59/59 [==============================] - 0s 2ms/step - loss: 0.1053 - accuracy: 0.9618 - val_loss: 0.1067 - val_accuracy: 0.9669\n",
      "Epoch 75/1000\n",
      "59/59 [==============================] - 0s 2ms/step - loss: 0.1033 - accuracy: 0.9645 - val_loss: 0.1057 - val_accuracy: 0.9669\n",
      "Epoch 76/1000\n",
      "59/59 [==============================] - 0s 3ms/step - loss: 0.1047 - accuracy: 0.9610 - val_loss: 0.1050 - val_accuracy: 0.9658\n",
      "Epoch 77/1000\n",
      "59/59 [==============================] - 0s 2ms/step - loss: 0.1016 - accuracy: 0.9631 - val_loss: 0.1062 - val_accuracy: 0.9626\n",
      "Epoch 78/1000\n",
      "59/59 [==============================] - 0s 2ms/step - loss: 0.1018 - accuracy: 0.9629 - val_loss: 0.1058 - val_accuracy: 0.9658\n",
      "Epoch 79/1000\n",
      "59/59 [==============================] - 0s 2ms/step - loss: 0.1018 - accuracy: 0.9629 - val_loss: 0.1031 - val_accuracy: 0.9637\n",
      "Epoch 80/1000\n",
      "59/59 [==============================] - 0s 3ms/step - loss: 0.1014 - accuracy: 0.9634 - val_loss: 0.1035 - val_accuracy: 0.9647\n",
      "Epoch 81/1000\n",
      "59/59 [==============================] - 0s 2ms/step - loss: 0.1043 - accuracy: 0.9623 - val_loss: 0.1054 - val_accuracy: 0.9679\n",
      "Epoch 82/1000\n",
      "59/59 [==============================] - 0s 2ms/step - loss: 0.1023 - accuracy: 0.9642 - val_loss: 0.1041 - val_accuracy: 0.9701\n",
      "Epoch 83/1000\n",
      "59/59 [==============================] - 0s 3ms/step - loss: 0.1008 - accuracy: 0.9634 - val_loss: 0.1049 - val_accuracy: 0.9669\n",
      "Epoch 84/1000\n",
      "59/59 [==============================] - 0s 2ms/step - loss: 0.1009 - accuracy: 0.9645 - val_loss: 0.1105 - val_accuracy: 0.9690\n",
      "Epoch 85/1000\n",
      "59/59 [==============================] - 0s 2ms/step - loss: 0.1006 - accuracy: 0.9626 - val_loss: 0.1035 - val_accuracy: 0.9669\n",
      "Epoch 86/1000\n",
      "59/59 [==============================] - 0s 2ms/step - loss: 0.1027 - accuracy: 0.9618 - val_loss: 0.1038 - val_accuracy: 0.9669\n",
      "Epoch 87/1000\n",
      "59/59 [==============================] - 0s 3ms/step - loss: 0.1032 - accuracy: 0.9634 - val_loss: 0.1053 - val_accuracy: 0.9637\n",
      "Epoch 88/1000\n",
      "59/59 [==============================] - 0s 2ms/step - loss: 0.1023 - accuracy: 0.9634 - val_loss: 0.1035 - val_accuracy: 0.9669\n",
      "Epoch 89/1000\n",
      "59/59 [==============================] - 0s 2ms/step - loss: 0.1011 - accuracy: 0.9629 - val_loss: 0.1100 - val_accuracy: 0.9626\n"
     ]
    }
   ],
   "source": [
    "# 라이브러리 import\n",
    "import pandas as pd\n",
    "from sklearn.model_selection import train_test_split\n",
    "from tensorflow.keras.models import Sequential\n",
    "from tensorflow.keras.layers import Dense\n",
    "from sklearn.preprocessing import MinMaxScaler\n",
    "from tensorflow.keras.models import Sequential\n",
    "from keras.callbacks import EarlyStopping\n",
    "\n",
    "# 데이터 로드\n",
    "total = pd.read_csv(\"df_total1.csv\")\n",
    "\n",
    "# 필요없는 열 제거\n",
    "total2 = total.iloc[:,4:]\n",
    "\n",
    "# 입력변수와 출력 변수 분리\n",
    "X = total2.drop(columns=['경계발령',\"유해남조류 세포수 (cells/㎖)\"])\n",
    "y = total2[[\"경계발령\"]]\n",
    "\n",
    "# 데이터를 훈련용과 검증용으로 분리\n",
    "X_train, X_test, y_train, y_test = train_test_split(X, y, test_size=0.2, random_state=1)\n",
    "\n",
    "# 스케일링\n",
    "scaler = MinMaxScaler()\n",
    "X_train_scaled = scaler.fit_transform(X_train)\n",
    "X_test_scaled = scaler.transform(X_test)\n",
    "\n",
    "# 모델 설계\n",
    "model = Sequential()\n",
    "\n",
    "model.add(Dense(64, input_dim=X_train_scaled.shape[1], activation='relu'))\n",
    "model.add(Dense(32, activation='relu'))\n",
    "model.add(Dense(32, activation='relu'))\n",
    "model.add(Dense(1, activation='sigmoid'))\n",
    "\n",
    "# EarlyStopping 콜백 정의\n",
    "early_stopping = EarlyStopping(monitor='val_loss', patience=10, restore_best_weights=True)\n",
    "\n",
    "# 모델 컴파일\n",
    "model.compile(optimizer='adam', loss='binary_crossentropy', metrics=['accuracy'])\n",
    "\n",
    "# 모델 학습\n",
    "history = model.fit(X_train_scaled, y_train, validation_data=(X_test_scaled, y_test), \n",
    "                    epochs=1000, batch_size=64, callbacks=[early_stopping])\n"
   ]
  },
  {
   "cell_type": "code",
   "execution_count": 2,
   "id": "2edca496",
   "metadata": {
    "ExecuteTime": {
     "end_time": "2023-06-02T11:36:44.147977Z",
     "start_time": "2023-06-02T11:36:43.983577Z"
    }
   },
   "outputs": [
    {
     "name": "stdout",
     "output_type": "stream",
     "text": [
      "30/30 [==============================] - 0s 2ms/step - loss: 0.1031 - accuracy: 0.9637\n",
      "Test accuracy: 0.9636752009391785\n",
      "Test loss:  0.10309097915887833\n"
     ]
    }
   ],
   "source": [
    "loss, accuracy = model.evaluate(X_test_scaled, y_test)\n",
    "print('Test accuracy:', accuracy)\n",
    "print('Test loss: ', loss)"
   ]
  },
  {
   "cell_type": "code",
   "execution_count": 3,
   "id": "e475e779",
   "metadata": {
    "ExecuteTime": {
     "end_time": "2023-06-02T11:36:45.306328Z",
     "start_time": "2023-06-02T11:36:44.150967Z"
    }
   },
   "outputs": [
    {
     "data": {
      "image/png": "[encoded data removed]",
      "text/plain": [
       "<Figure size 432x288 with 1 Axes>"
      ]
     },
     "metadata": {
      "needs_background": "light"
     },
     "output_type": "display_data"
    },
    {
     "data": {
      "image/png": "[encoded data removed]",
      "text/plain": [
       "<Figure size 432x288 with 1 Axes>"
      ]
     },
     "metadata": {
      "needs_background": "light"
     },
     "output_type": "display_data"
    }
   ],
   "source": [
    "import matplotlib.pyplot as plt\n",
    "\n",
    "# history 객체에서 손실값과 정확도를 추출합니다.\n",
    "train_loss = history.history['loss']\n",
    "val_loss = history.history['val_loss']\n",
    "train_acc = history.history['accuracy']\n",
    "val_acc = history.history['val_accuracy']\n",
    "\n",
    "# 손실값 그래프\n",
    "plt.plot(train_loss, label='train_loss')\n",
    "plt.plot(val_loss, label='val_loss')\n",
    "plt.legend()\n",
    "plt.title('Loss')\n",
    "plt.show()\n",
    "\n",
    "# 정확도 그래프\n",
    "plt.plot(train_acc, label='train_acc')\n",
    "plt.plot(val_acc, label='val_acc')\n",
    "plt.legend()\n",
    "plt.title('Accuracy')\n",
    "plt.show()\n"
   ]
  },
  {
   "cell_type": "code",
   "execution_count": null,
   "id": "c741058b",
   "metadata": {},
   "outputs": [],
   "source": []
  }
 ],
 "metadata": {
  "kernelspec": {
   "display_name": "Python 3 (ipykernel)",
   "language": "python",
   "name": "python3"
  },
  "language_info": {
   "codemirror_mode": {
    "name": "ipython",
    "version": 3
   },
   "file_extension": ".py",
   "mimetype": "text/x-python",
   "name": "python",
   "nbconvert_exporter": "python",
   "pygments_lexer": "ipython3",
   "version": "3.9.12"
  },
  "toc": {
   "base_numbering": 1,
   "nav_menu": {},
   "number_sections": false,
   "sideBar": true,
   "skip_h1_title": false,
   "title_cell": "Table of Contents",
   "title_sidebar": "Contents",
   "toc_cell": false,
   "toc_position": {},
   "toc_section_display": true,
   "toc_window_display": false
  },
  "varInspector": {
   "cols": {
    "lenName": 16,
    "lenType": 16,
    "lenVar": 40
   },
   "kernels_config": {
    "python": {
     "delete_cmd_postfix": "",
     "delete_cmd_prefix": "del ",
     "library": "var_list.py",
     "varRefreshCmd": "print(var_dic_list())"
    },
    "r": {
     "delete_cmd_postfix": ") ",
     "delete_cmd_prefix": "rm(",
     "library": "var_list.r",
     "varRefreshCmd": "cat(var_dic_list()) "
    }
   },
   "types_to_exclude": [
    "module",
    "function",
    "builtin_function_or_method",
    "instance",
    "_Feature"
   ],
   "window_display": false
  }
 },
 "nbformat": 4,
 "nbformat_minor": 5
}
